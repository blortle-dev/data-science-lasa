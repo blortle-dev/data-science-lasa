{
 "cells": [
  {
   "metadata": {},
   "cell_type": "markdown",
   "source": [
    "# Modelling Race Results of the Williams F1 Team\n",
    "*By Colin DiCarlo, for Data Science Fundamentals*\n",
    "\n",
    "---\n",
    "\n",
    "In Formula One, a driver can score points by finishing the race in the top ten. Each team has two drivers. In this project, I used data from each race result for the Williams Racing Formula One team to determine whether or not they scored points in the race weekend. The dataset starts from the most recent regulation change, at the 2022 Saudia Arabian Grand Prix, going to the most recent race in my dataset, the 2024 British Grand Prix. We'll be using this prediction to determine the odds of the Williams F1 team scoring points at this weekend's upcoming 2024 Azerbaijan Grand Prix, on September 15th. To help account for this specific circuit, I have also inserted the data from the 2019 and 2021 Azerbaijan Grand Prix. There was no Azerbaijan Grand Prix present in the 2020 season.\n",
    "\n",
    "Before starting, I predicted a 20% chance that the team would score points in any given race. I started by obtaining a database of constructor (team) race results from the 1950-2024 Formula 1 seasons [here](https://www.kaggle.com/datasets/rohanrao/formula-1-world-championship-1950-2020/data). In the `constructor_results.csv` file, I filtered out to only results where `constructorId` was `3`, which is listed in the `constructors.csv` file as Williams Racing. Then, using the `races.csv` file as a reference, I filtered the dataset to be only `raceId`s from the 2022 season onward, where the most recent regulation change was implemented. Additionally, I added the 2019 and 2021 Azerbaijan Grand Prix, as stated earlier. This data is stored in the `constructor_results_FILTERED_WILLIAMS_2022_2024.csv` file.\n",
    "\n",
    "To start extracting the data, I wrote some python code to first convert the CSV file to a Pandas Dataframe, so I could easily work with it, then printed it for debugging purposes. Additonally, I created the `pointsData` dataframe with only the data for points scored."
   ],
   "id": "3c29682f939c18c4"
  },
  {
   "metadata": {
    "ExecuteTime": {
     "end_time": "2024-09-12T19:07:05.060891Z",
     "start_time": "2024-09-12T19:07:05.053730Z"
    }
   },
   "cell_type": "code",
   "source": [
    "import numpy as np\n",
    "import arviz as az\n",
    "import pymc as pm\n",
    "import pandas as pd"
   ],
   "id": "35667e7bffe1a854",
   "outputs": [],
   "execution_count": 8
  },
  {
   "metadata": {
    "ExecuteTime": {
     "end_time": "2024-09-12T19:07:06.787560Z",
     "start_time": "2024-09-12T19:07:06.781534Z"
    }
   },
   "cell_type": "code",
   "source": [
    "dataframe = pd.read_csv(\"https://raw.githubusercontent.com/blortle-dev/data-science-lasa/main/Unit%202/Unit%202%20Project/f1-data/constructor_results_FILTERED_WILLIAMS_2022_2024.csv\")\n",
    "pointsData = dataframe[\"points\"]"
   ],
   "id": "c5b12d93a4ddfa87",
   "outputs": [],
   "execution_count": 9
  },
  {
   "metadata": {},
   "cell_type": "code",
   "outputs": [],
   "execution_count": null,
   "source": "print(pointsData)",
   "id": "f8e148aaebef4704"
  },
  {
   "metadata": {},
   "cell_type": "markdown",
   "source": "Next, I created a variable to track how many entries scored points. To calculate this, I looped through the `pointsData` dataframe and incremented the variable each time the points value was not equal to 0. I also found the entries where the points value was equal to zero, and printed again for debugging purposes.",
   "id": "52993a75c6a429b4"
  },
  {
   "metadata": {
    "ExecuteTime": {
     "end_time": "2024-09-12T19:07:08.553698Z",
     "start_time": "2024-09-12T19:07:08.550668Z"
    }
   },
   "cell_type": "code",
   "source": [
    "pointsEntries = 0\n",
    "\n",
    "for entry in pointsData:\n",
    "    if entry != 0:\n",
    "        pointsEntries += 1\n",
    "\n",
    "nonPoints = len(pointsData)-pointsEntries"
   ],
   "id": "2fb9989e69ef6a94",
   "outputs": [],
   "execution_count": 10
  },
  {
   "metadata": {},
   "cell_type": "code",
   "outputs": [],
   "execution_count": null,
   "source": [
    "print(pointsEntries)\n",
    "print(nonPoints)"
   ],
   "id": "d6bcbc0ac7163185"
  },
  {
   "metadata": {},
   "cell_type": "markdown",
   "source": [
    "The rest of the code to determine the projected results and create the graph was taken from the Unit 2 Notes Answer Key. \n",
    "\n",
    "I chose 20% as my prior, since after observing the team for many races, scoring points was an extremely rare but not impossible result for the team. To implement this, I set the `alpha` of `t` to 2, and the `beta` of `t` to 8, so it would match my prior."
   ],
   "id": "7d852af97969057a"
  },
  {
   "metadata": {
    "ExecuteTime": {
     "end_time": "2024-09-12T19:08:00.501881Z",
     "start_time": "2024-09-12T19:07:58.218889Z"
    }
   },
   "cell_type": "code",
   "source": [
    "points_data_observed = np.repeat([1,0], repeats = [pointsEntries,nonPoints])\n",
    "\n",
    "with pm.Model() as pointsData:\n",
    "    t = pm.Beta('θ' , alpha = 2 , beta = 8)\n",
    "\n",
    "    y = pm.Bernoulli('y', p = t, observed = points_data_observed)\n",
    "\n",
    "    pointsSample = pm.sample(2000)\n",
    "\n",
    "    plot = az.plot_posterior(pointsSample)\n",
    "    print(plot)\n",
    "    pm.sample_posterior_predictive(pointsSample, model=pointsData, extend_inferencedata=True)\n",
    "    pointsValues = az.extract(pointsSample, group=\"posterior_predictive\")\n",
    "    print(pointsValues.sel(sample=0).sel(draw=0).y.to_series().values)"
   ],
   "id": "2785096b3796b33a",
   "outputs": [
    {
     "name": "stderr",
     "output_type": "stream",
     "text": [
      "Sampling 4 chains for 1_000 tune and 2_000 draw iterations (4_000 + 8_000 draws total) took 1 seconds.\n",
      "Sampling: [y]\n"
     ]
    },
    {
     "name": "stdout",
     "output_type": "stream",
     "text": [
      "[0 0 1 1 1 0 0 1 0 1 1 0 0 0 0 0 0 0 0 0 0 1 1 0 0 0 0 0 0 0 0 1 0 1 0 1 0\n",
      " 0 1 1 0 0 0 0 0 0 0 1 0 1 1 0 0 0 1 0 1]\n"
     ]
    },
    {
     "data": {
      "text/plain": [
       "<Figure size 640x480 with 1 Axes>"
      ],
      "image/png": "[encoded data removed]"
     },
     "metadata": {},
     "output_type": "display_data"
    }
   ],
   "execution_count": 12
  },
  {
   "metadata": {},
   "cell_type": "markdown",
   "source": [
    "This prints out both the distribution graph and the next 57 projected results, since the dataset has 57 entries.\n",
    "The mean for the distribution graph is around 0.25, or 25%. This is higher than my prior, but not high enough to be incredibly surprising. The data printed for the next 57 races predicts that the team will not score points this weekend, but it is still possible to happen."
   ],
   "id": "bc6021af2970207e"
  },
  {
   "metadata": {},
   "cell_type": "markdown",
   "source": [
    "It's important to also recognize the flaws in these calculations. This project only looks at whether the team scored points or not. However, a team's performance in a race is directly linked to whether they score points, but there are many factors that can influence a team's performance in the weekend. These factors include the following:\n",
    "- team strategy\n",
    "- circuit\n",
    "- time of day\n",
    "- track conditions\n",
    "- cockpit temperature\n",
    "- tyre wear\n",
    "- tyre temperature\n",
    "- fuel onboard\n",
    "- driver mood\n",
    "- pit stop time\n",
    "- car performance\n",
    "- recent upgrades\n",
    "- handling familiarity\n",
    "- other teams' performance"
   ],
   "id": "a0cfa32b57fd3b9d"
  },
  {
   "metadata": {},
   "cell_type": "markdown",
   "source": [
    "# Results\n",
    "*Post-race weekend*\n",
    "\n",
    "---\n",
    "Race weekend has not yet completed."
   ],
   "id": "47a3df418699c31d"
  },
  {
   "metadata": {},
   "cell_type": "markdown",
   "source": [
    "## Full Code\n",
    "\n",
    "---"
   ],
   "id": "c8e85bfbbe951b7d"
  },
  {
   "metadata": {},
   "cell_type": "code",
   "outputs": [],
   "execution_count": null,
   "source": [
    "import numpy as np\n",
    "import arviz as az\n",
    "import pymc as pm\n",
    "import pandas as pd\n",
    "\n",
    "dataframe = pd.read_csv(\"https://raw.githubusercontent.com/blortle-dev/data-science-lasa/main/Unit%202/Unit%202%20Project/f1-data/constructor_results_FILTERED_WILLIAMS_2022_2024.csv\")\n",
    "pointsData = dataframe[\"points\"]\n",
    "\n",
    "print(pointsData)\n",
    "\n",
    "pointsEntries = 0\n",
    "\n",
    "for entry in pointsData:\n",
    "    if entry != 0:\n",
    "        pointsEntries += 1\n",
    "\n",
    "nonPoints = len(pointsData)-pointsEntries\n",
    "\n",
    "print(pointsEntries)\n",
    "print(nonPoints)\n",
    "\n",
    "points_data_observed = np.repeat([1,0], repeats = [pointsEntries,nonPoints])\n",
    "\n",
    "with pm.Model() as pointsData:\n",
    "    t = pm.Beta('θ' , alpha = 2 , beta = 8)\n",
    "\n",
    "    y = pm.Bernoulli('y', p = t, observed = points_data_observed)\n",
    "\n",
    "    pointsSample = pm.sample(2000)\n",
    "\n",
    "    plot = az.plot_posterior(pointsSample)\n",
    "    print(plot)\n",
    "    pm.sample_posterior_predictive(pointsSample, model=pointsData, extend_inferencedata=True)\n",
    "    pointsValues = az.extract(pointsSample, group=\"posterior_predictive\")\n",
    "    print(pointsValues.sel(sample=0).sel(draw=0).y.to_series().values)"
   ],
   "id": "62cd3c8a3d9ca73a"
  }
 ],
 "metadata": {
  "kernelspec": {
   "display_name": "Python 3",
   "language": "python",
   "name": "python3"
  },
  "language_info": {
   "codemirror_mode": {
    "name": "ipython",
    "version": 2
   },
   "file_extension": ".py",
   "mimetype": "text/x-python",
   "name": "python",
   "nbconvert_exporter": "python",
   "pygments_lexer": "ipython2",
   "version": "2.7.6"
  }
 },
 "nbformat": 4,
 "nbformat_minor": 5
}
