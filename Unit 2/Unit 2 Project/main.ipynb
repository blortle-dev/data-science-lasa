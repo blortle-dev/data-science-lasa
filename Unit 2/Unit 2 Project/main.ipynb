{
 "cells": [
  {
   "metadata": {},
   "cell_type": "markdown",
   "source": [
    "# Modelling Race Results of the Williams F1 Team\n",
    "*By Colin DiCarlo, for Data Science Fundamentals*\n",
    "\n",
    "---\n",
    "\n",
    "In Formula One, a driver can score points by finishing the race in the top ten. Each team has two drivers. In this project, I used data from each race result for the Williams Racing Formula One team to determine whether they scored points in any given race weekend. The dataset starts from the most recent regulation change, at the 2022 Saudi Arabian Grand Prix, going to the most recent race in my dataset, the 2024 British Grand Prix. We'll be using this prediction to determine the odds of the Williams F1 team scoring points at this weekend's upcoming 2024 Azerbaijan Grand Prix, on September 15th. To help account for this specific circuit, I have also inserted the data from the 2019 and 2021 Azerbaijan Grand Prix. There was no Azerbaijan Grand Prix present in the 2020 season.\n",
    "\n",
    "Before starting, I predicted a 20% chance that the team would score points in any given race. I started by obtaining a database of constructor (team) race results from the 1950-2024 Formula 1 seasons [here](https://www.kaggle.com/datasets/rohanrao/formula-1-world-championship-1950-2020/data). In the `constructor_results.csv` file, I filtered out to only results where `constructorId` was `3`, which is listed in the `constructors.csv` file as Williams Racing. Then, using the `races.csv` file as a reference, I filtered the dataset to be only `raceId`s from the 2022 season onward, where the most recent regulation change was implemented. Additionally, I added the 2019 and 2021 Azerbaijan Grand Prix, as stated earlier. This data is stored in the `constructor_results_FILTERED_WILLIAMS_2022_2024.csv` file.\n",
    "\n",
    "To start extracting the data, I wrote some python code to first convert the CSV file to a Pandas Dataframe, so I could easily work with it, then printed it for debugging purposes. Additionally, I created the `pointsData` dataframe with only the data for points scored."
   ],
   "id": "3c29682f939c18c4"
  },
  {
   "metadata": {
    "ExecuteTime": {
     "end_time": "2024-09-12T23:28:09.581879Z",
     "start_time": "2024-09-12T23:28:07.964058Z"
    }
   },
   "cell_type": "code",
   "source": [
    "import numpy as np\n",
    "import arviz as az\n",
    "import pymc as pm\n",
    "import pandas as pd"
   ],
   "id": "35667e7bffe1a854",
   "outputs": [
    {
     "name": "stderr",
     "output_type": "stream",
     "text": [
      "WARNING (pytensor.tensor.blas): Using NumPy C-API based implementation for BLAS functions.\n"
     ]
    }
   ],
   "execution_count": 1
  },
  {
   "metadata": {
    "ExecuteTime": {
     "end_time": "2024-09-12T23:28:09.956215Z",
     "start_time": "2024-09-12T23:28:09.589238Z"
    }
   },
   "cell_type": "code",
   "source": [
    "dataframe = pd.read_csv(\"https://raw.githubusercontent.com/blortle-dev/data-science-lasa/main/Unit%202/Unit%202%20Project/f1-data/constructor_results_FILTERED_WILLIAMS_2022_2024.csv\")\n",
    "pointsData = dataframe[\"points\"]"
   ],
   "id": "c5b12d93a4ddfa87",
   "outputs": [],
   "execution_count": 2
  },
  {
   "metadata": {
    "ExecuteTime": {
     "end_time": "2024-09-12T23:28:19.203549Z",
     "start_time": "2024-09-12T23:28:19.201059Z"
    }
   },
   "cell_type": "code",
   "source": "print(pointsData)",
   "id": "f8e148aaebef4704",
   "outputs": [
    {
     "name": "stdout",
     "output_type": "stream",
     "text": [
      "0     0\n",
      "1     1\n",
      "2     0\n",
      "3     2\n",
      "4     0\n",
      "5     0\n",
      "6     0\n",
      "7     0\n",
      "8     0\n",
      "9     0\n",
      "10    0\n",
      "11    0\n",
      "12    1\n",
      "13    0\n",
      "14    2\n",
      "15    0\n",
      "16    2\n",
      "17    0\n",
      "18    0\n",
      "19    0\n",
      "20    0\n",
      "21    1\n",
      "22    0\n",
      "23    0\n",
      "24    0\n",
      "25    0\n",
      "26    0\n",
      "27    0\n",
      "28    6\n",
      "29    0\n",
      "30    4\n",
      "31    0\n",
      "32    0\n",
      "33    4\n",
      "34    6\n",
      "35    0\n",
      "36    0\n",
      "37    2\n",
      "38    3\n",
      "39    2\n",
      "40    0\n",
      "41    0\n",
      "42    0\n",
      "43    0\n",
      "44    0\n",
      "45    0\n",
      "46    0\n",
      "47    0\n",
      "48    0\n",
      "49    0\n",
      "50    2\n",
      "51    0\n",
      "52    0\n",
      "53    0\n",
      "54    2\n",
      "55    0\n",
      "56    0\n",
      "Name: points, dtype: int64\n"
     ]
    }
   ],
   "execution_count": 3
  },
  {
   "metadata": {},
   "cell_type": "markdown",
   "source": "Next, I created a variable to track how many entries scored points. To calculate this, I looped through the `pointsData` dataframe and incremented the variable each time the points value was not equal to 0. I also found the entries where the points value was equal to zero, and printed again for debugging purposes.",
   "id": "52993a75c6a429b4"
  },
  {
   "metadata": {
    "ExecuteTime": {
     "end_time": "2024-09-12T23:28:56.352106Z",
     "start_time": "2024-09-12T23:28:56.348747Z"
    }
   },
   "cell_type": "code",
   "source": [
    "pointsEntries = 0\n",
    "\n",
    "for entry in pointsData:\n",
    "    if entry != 0:\n",
    "        pointsEntries += 1\n",
    "\n",
    "nonPoints = len(pointsData)-pointsEntries"
   ],
   "id": "2fb9989e69ef6a94",
   "outputs": [],
   "execution_count": 4
  },
  {
   "metadata": {
    "ExecuteTime": {
     "end_time": "2024-09-12T23:29:10.329871Z",
     "start_time": "2024-09-12T23:29:10.327032Z"
    }
   },
   "cell_type": "code",
   "source": [
    "print(pointsEntries)\n",
    "print(nonPoints)"
   ],
   "id": "d6bcbc0ac7163185",
   "outputs": [
    {
     "name": "stdout",
     "output_type": "stream",
     "text": [
      "15\n",
      "42\n"
     ]
    }
   ],
   "execution_count": 5
  },
  {
   "metadata": {},
   "cell_type": "markdown",
   "source": [
    "The rest of the code to determine the projected results and create the graph was taken from the Unit 2 Notes Answer Key. \n",
    "\n",
    "I chose 20% as my prior, since after observing the team for many races, scoring points was an extremely rare but not impossible result for the team. To implement this, I set the `alpha` of `t` to 2, and the `beta` of `t` to 8, so it would match my prior."
   ],
   "id": "7d852af97969057a"
  },
  {
   "metadata": {
    "ExecuteTime": {
     "end_time": "2024-09-12T23:31:07.530328Z",
     "start_time": "2024-09-12T23:31:04.117392Z"
    }
   },
   "cell_type": "code",
   "source": [
    "points_data_observed = np.repeat([1,0], repeats = [pointsEntries,nonPoints])\n",
    "\n",
    "with pm.Model() as pointsData:\n",
    "    t = pm.Beta('θ' , alpha = 2 , beta = 8)\n",
    "\n",
    "    y = pm.Bernoulli('y', p = t, observed = points_data_observed)\n",
    "\n",
    "    pointsSample = pm.sample(2000)\n",
    "\n",
    "    plot = az.plot_posterior(pointsSample)\n",
    "    print(plot)\n",
    "    pm.sample_posterior_predictive(pointsSample, model=pointsData, extend_inferencedata=True)\n",
    "    pointsValues = az.extract(pointsSample, group=\"posterior_predictive\")\n",
    "    print(pointsValues.sel(sample=0).sel(draw=0).y.to_series().values)"
   ],
   "id": "2785096b3796b33a",
   "outputs": [
    {
     "name": "stderr",
     "output_type": "stream",
     "text": [
      "Auto-assigning NUTS sampler...\n",
      "Initializing NUTS using jitter+adapt_diag...\n",
      "Multiprocess sampling (4 chains in 4 jobs)\n",
      "NUTS: [θ]\n"
     ]
    },
    {
     "data": {
      "text/plain": [
       "/Users/colindicarlo/PycharmProjects/data-science-project/.venv/lib/python3.12/site-packages/rich/live.py:231: \n",
       "UserWarning: install \"ipywidgets\" for Jupyter support\n",
       "  warnings.warn('install \"ipywidgets\" for Jupyter support')\n"
      ],
      "text/html": [
       "<pre style=\"white-space:pre;overflow-x:auto;line-height:normal;font-family:Menlo,'DejaVu Sans Mono',consolas,'Courier New',monospace\">/Users/colindicarlo/PycharmProjects/data-science-project/.venv/lib/python3.12/site-packages/rich/live.py:231: \n",
       "UserWarning: install \"ipywidgets\" for Jupyter support\n",
       "  warnings.warn('install \"ipywidgets\" for Jupyter support')\n",
       "</pre>\n"
      ]
     },
     "metadata": {},
     "output_type": "display_data"
    },
    {
     "data": {
      "text/plain": [],
      "text/html": [
       "<pre style=\"white-space:pre;overflow-x:auto;line-height:normal;font-family:Menlo,'DejaVu Sans Mono',consolas,'Courier New',monospace\"></pre>\n"
      ]
     },
     "metadata": {},
     "output_type": "display_data"
    },
    {
     "name": "stderr",
     "output_type": "stream",
     "text": [
      "Sampling 4 chains for 1_000 tune and 2_000 draw iterations (4_000 + 8_000 draws total) took 1 seconds.\n",
      "Sampling: [y]\n"
     ]
    },
    {
     "data": {
      "text/plain": [
       "/Users/colindicarlo/PycharmProjects/data-science-project/.venv/lib/python3.12/site-packages/rich/live.py:231: \n",
       "UserWarning: install \"ipywidgets\" for Jupyter support\n",
       "  warnings.warn('install \"ipywidgets\" for Jupyter support')\n"
      ],
      "text/html": [
       "<pre style=\"white-space:pre;overflow-x:auto;line-height:normal;font-family:Menlo,'DejaVu Sans Mono',consolas,'Courier New',monospace\">/Users/colindicarlo/PycharmProjects/data-science-project/.venv/lib/python3.12/site-packages/rich/live.py:231: \n",
       "UserWarning: install \"ipywidgets\" for Jupyter support\n",
       "  warnings.warn('install \"ipywidgets\" for Jupyter support')\n",
       "</pre>\n"
      ]
     },
     "metadata": {},
     "output_type": "display_data"
    },
    {
     "name": "stdout",
     "output_type": "stream",
     "text": [
      "Axes(0.125,0.11;0.775x0.77)\n"
     ]
    },
    {
     "data": {
      "text/plain": [],
      "text/html": [
       "<pre style=\"white-space:pre;overflow-x:auto;line-height:normal;font-family:Menlo,'DejaVu Sans Mono',consolas,'Courier New',monospace\"></pre>\n"
      ]
     },
     "metadata": {},
     "output_type": "display_data"
    },
    {
     "name": "stdout",
     "output_type": "stream",
     "text": [
      "[0 0 1 0 0 0 1 1 0 0 0 0 1 0 0 0 1 0 1 0 0 1 0 0 1 1 0 0 0 0 0 0 1 0 0 1 0\n",
      " 1 0 0 0 0 0 0 1 0 0 0 0 1 0 0 0 0 0 0 0]\n"
     ]
    },
    {
     "data": {
      "text/plain": [
       "<Figure size 640x480 with 1 Axes>"
      ],
      "image/png": "[encoded data removed]"
     },
     "metadata": {},
     "output_type": "display_data"
    }
   ],
   "execution_count": 6
  },
  {
   "metadata": {},
   "cell_type": "markdown",
   "source": [
    "This prints out both the distribution graph and the next 57 projected results, since the dataset has 57 entries.\n",
    "The mean for the distribution graph is around 0.25, or 25%. This is higher than my prior, but not high enough to be incredibly surprising. The data printed for the next 57 races predicts that the team will not score points this weekend, but it is still possible to happen."
   ],
   "id": "bc6021af2970207e"
  },
  {
   "metadata": {},
   "cell_type": "markdown",
   "source": [
    "It's important to also recognize the flaws in these calculations. This project only looks at whether the team scored points or not. However, a team's performance in a race is directly linked to whether they score points, but there are many factors that can influence a team's performance in the weekend. These factors include the following:\n",
    "- team strategy\n",
    "- circuit\n",
    "- time of day\n",
    "- track conditions\n",
    "- cockpit temperature\n",
    "- tyre wear\n",
    "- tyre temperature\n",
    "- fuel onboard\n",
    "- driver mood\n",
    "- pit stop time\n",
    "- car performance\n",
    "- recent upgrades\n",
    "- handling familiarity\n",
    "- other teams' performance"
   ],
   "id": "a0cfa32b57fd3b9d"
  },
  {
   "metadata": {},
   "cell_type": "markdown",
   "source": [
    "# Results\n",
    "*Post-race weekend*\n",
    "\n",
    "---\n",
    "As of Sunday, September 15th at 10:00 AM, the Williams F1 team have scored double points in the race weekend. With the predictions I ran, they were not expected to earn points, however this has been incorrect after the race weekend."
   ],
   "id": "47a3df418699c31d"
  },
  {
   "metadata": {},
   "cell_type": "markdown",
   "source": [
    "## Full Code\n",
    "\n",
    "---"
   ],
   "id": "c8e85bfbbe951b7d"
  },
  {
   "metadata": {},
   "cell_type": "code",
   "outputs": [],
   "execution_count": null,
   "source": [
    "import numpy as np\n",
    "import arviz as az\n",
    "import pymc as pm\n",
    "import pandas as pd\n",
    "\n",
    "dataframe = pd.read_csv(\"https://raw.githubusercontent.com/blortle-dev/data-science-lasa/main/Unit%202/Unit%202%20Project/f1-data/constructor_results_FILTERED_WILLIAMS_2022_2024.csv\")\n",
    "pointsData = dataframe[\"points\"]\n",
    "\n",
    "print(pointsData)\n",
    "\n",
    "pointsEntries = 0\n",
    "\n",
    "for entry in pointsData:\n",
    "    if entry != 0:\n",
    "        pointsEntries += 1\n",
    "\n",
    "nonPoints = len(pointsData)-pointsEntries\n",
    "\n",
    "print(pointsEntries)\n",
    "print(nonPoints)\n",
    "\n",
    "points_data_observed = np.repeat([1,0], repeats = [pointsEntries,nonPoints])\n",
    "\n",
    "with pm.Model() as pointsData:\n",
    "    t = pm.Beta('θ' , alpha = 2 , beta = 8)\n",
    "\n",
    "    y = pm.Bernoulli('y', p = t, observed = points_data_observed)\n",
    "\n",
    "    pointsSample = pm.sample(2000)\n",
    "\n",
    "    plot = az.plot_posterior(pointsSample)\n",
    "    print(plot)\n",
    "    pm.sample_posterior_predictive(pointsSample, model=pointsData, extend_inferencedata=True)\n",
    "    pointsValues = az.extract(pointsSample, group=\"posterior_predictive\")\n",
    "    print(pointsValues.sel(sample=0).sel(draw=0).y.to_series().values)"
   ],
   "id": "62cd3c8a3d9ca73a"
  }
 ],
 "metadata": {
  "kernelspec": {
   "display_name": "Python 3",
   "language": "python",
   "name": "python3"
  },
  "language_info": {
   "codemirror_mode": {
    "name": "ipython",
    "version": 2
   },
   "file_extension": ".py",
   "mimetype": "text/x-python",
   "name": "python",
   "nbconvert_exporter": "python",
   "pygments_lexer": "ipython2",
   "version": "2.7.6"
  }
 },
 "nbformat": 4,
 "nbformat_minor": 5
}
