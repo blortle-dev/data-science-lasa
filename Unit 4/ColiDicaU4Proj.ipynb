{
 "cells": [
  {
   "metadata": {},
   "cell_type": "markdown",
   "source": [
    "# Title\n",
    "*Unit 4 Project*"
   ],
   "id": "e362538f0f41f12b"
  },
  {
   "metadata": {},
   "cell_type": "markdown",
   "source": "### Section 1",
   "id": "ad794e950ff2d111"
  },
  {
   "metadata": {},
   "cell_type": "code",
   "outputs": [],
   "execution_count": null,
   "source": "",
   "id": "9147b61362bff785"
  },
  {
   "metadata": {},
   "cell_type": "markdown",
   "source": "### Section 2",
   "id": "c8aaa90bf0f3bcc9"
  },
  {
   "metadata": {},
   "cell_type": "code",
   "outputs": [],
   "execution_count": null,
   "source": "",
   "id": "76179ede0216a499"
  },
  {
   "metadata": {},
   "cell_type": "markdown",
   "source": "### Section 3",
   "id": "ce80a4d1a2e26c19"
  },
  {
   "metadata": {},
   "cell_type": "code",
   "outputs": [],
   "execution_count": null,
   "source": "",
   "id": "1a088dea4f398121"
  },
  {
   "metadata": {},
   "cell_type": "markdown",
   "source": "### Section 4",
   "id": "386282d0eaee0ebd"
  },
  {
   "metadata": {},
   "cell_type": "code",
   "outputs": [],
   "execution_count": null,
   "source": "",
   "id": "8f413917e2daee04"
  },
  {
   "metadata": {},
   "cell_type": "markdown",
   "source": "### Section 5",
   "id": "590e4951100e8a55"
  },
  {
   "metadata": {},
   "cell_type": "code",
   "outputs": [],
   "execution_count": null,
   "source": "",
   "id": "34c5c92fac6d5155"
  },
  {
   "metadata": {},
   "cell_type": "markdown",
   "source": "### Conclusion",
   "id": "19c994a2a81f3512"
  },
  {
   "metadata": {},
   "cell_type": "code",
   "outputs": [],
   "execution_count": null,
   "source": "",
   "id": "bf8163078d043838"
  }
 ],
 "metadata": {
  "kernelspec": {
   "display_name": "Python 3",
   "language": "python",
   "name": "python3"
  },
  "language_info": {
   "codemirror_mode": {
    "name": "ipython",
    "version": 2
   },
   "file_extension": ".py",
   "mimetype": "text/x-python",
   "name": "python",
   "nbconvert_exporter": "python",
   "pygments_lexer": "ipython2",
   "version": "2.7.6"
  }
 },
 "nbformat": 4,
 "nbformat_minor": 5
}
