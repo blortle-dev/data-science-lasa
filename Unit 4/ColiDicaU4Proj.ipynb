{
 "cells": [
  {
   "metadata": {},
   "cell_type": "markdown",
   "source": [
    "# Title\n",
    "*Unit 4 Project*"
   ],
   "id": "e362538f0f41f12b"
  },
  {
   "metadata": {},
   "cell_type": "markdown",
   "source": [
    "### Setup\n",
    "\n",
    "The code below is just to import the data, and parse it so that we can easily use it in our code."
   ],
   "id": "ad794e950ff2d111"
  },
  {
   "metadata": {
    "ExecuteTime": {
     "end_time": "2024-11-12T18:56:30.196852Z",
     "start_time": "2024-11-12T18:56:30.190177Z"
    }
   },
   "cell_type": "code",
   "source": [
    "import numpy as np\n",
    "from matplotlib import pyplot as plt\n",
    "import seaborn as sns\n",
    "import pandas as pd\n",
    "import arviz as az\n",
    "import pymc as pm"
   ],
   "id": "aa9f06cf0c736341",
   "outputs": [
    {
     "ename": "ModuleNotFoundError",
     "evalue": "No module named 'numpy'",
     "output_type": "error",
     "traceback": [
      "\u001B[0;31m---------------------------------------------------------------------------\u001B[0m",
      "\u001B[0;31mModuleNotFoundError\u001B[0m                       Traceback (most recent call last)",
      "Cell \u001B[0;32mIn[1], line 1\u001B[0m\n\u001B[0;32m----> 1\u001B[0m \u001B[38;5;28;01mimport\u001B[39;00m \u001B[38;5;21;01mnumpy\u001B[39;00m \u001B[38;5;28;01mas\u001B[39;00m \u001B[38;5;21;01mnp\u001B[39;00m\n\u001B[1;32m      2\u001B[0m \u001B[38;5;28;01mfrom\u001B[39;00m \u001B[38;5;21;01mmatplotlib\u001B[39;00m \u001B[38;5;28;01mimport\u001B[39;00m pyplot \u001B[38;5;28;01mas\u001B[39;00m plt\n\u001B[1;32m      3\u001B[0m \u001B[38;5;28;01mimport\u001B[39;00m \u001B[38;5;21;01mseaborn\u001B[39;00m \u001B[38;5;28;01mas\u001B[39;00m \u001B[38;5;21;01msns\u001B[39;00m\n",
      "\u001B[0;31mModuleNotFoundError\u001B[0m: No module named 'numpy'"
     ]
    }
   ],
   "execution_count": 1
  },
  {
   "metadata": {},
   "cell_type": "code",
   "outputs": [],
   "execution_count": null,
   "source": "",
   "id": "9147b61362bff785"
  },
  {
   "metadata": {},
   "cell_type": "markdown",
   "source": "### Section 2",
   "id": "c8aaa90bf0f3bcc9"
  },
  {
   "metadata": {},
   "cell_type": "code",
   "outputs": [],
   "execution_count": null,
   "source": "",
   "id": "76179ede0216a499"
  },
  {
   "metadata": {},
   "cell_type": "markdown",
   "source": "### Section 3",
   "id": "ce80a4d1a2e26c19"
  },
  {
   "metadata": {},
   "cell_type": "code",
   "outputs": [],
   "execution_count": null,
   "source": "",
   "id": "1a088dea4f398121"
  },
  {
   "metadata": {},
   "cell_type": "markdown",
   "source": "### Section 4",
   "id": "386282d0eaee0ebd"
  },
  {
   "metadata": {},
   "cell_type": "code",
   "outputs": [],
   "execution_count": null,
   "source": "",
   "id": "8f413917e2daee04"
  },
  {
   "metadata": {},
   "cell_type": "markdown",
   "source": "### Section 5",
   "id": "590e4951100e8a55"
  },
  {
   "metadata": {},
   "cell_type": "code",
   "outputs": [],
   "execution_count": null,
   "source": "",
   "id": "34c5c92fac6d5155"
  },
  {
   "metadata": {},
   "cell_type": "markdown",
   "source": "### Conclusion",
   "id": "19c994a2a81f3512"
  },
  {
   "metadata": {},
   "cell_type": "code",
   "outputs": [],
   "execution_count": null,
   "source": "",
   "id": "bf8163078d043838"
  }
 ],
 "metadata": {
  "kernelspec": {
   "display_name": "Python 3",
   "language": "python",
   "name": "python3"
  },
  "language_info": {
   "codemirror_mode": {
    "name": "ipython",
    "version": 2
   },
   "file_extension": ".py",
   "mimetype": "text/x-python",
   "name": "python",
   "nbconvert_exporter": "python",
   "pygments_lexer": "ipython2",
   "version": "2.7.6"
  }
 },
 "nbformat": 4,
 "nbformat_minor": 5
}
