{
  "nbformat": 4,
  "nbformat_minor": 0,
  "metadata": {
    "colab": {
      "provenance": [],
      "include_colab_link": true
    },
    "kernelspec": {
      "name": "python3",
      "display_name": "Python 3"
    },
    "language_info": {
      "name": "python"
    }
  },
  "cells": [
    {
      "cell_type": "markdown",
      "metadata": {
        "id": "view-in-github",
        "colab_type": "text"
      },
      "source": [
        "<a href=\"https://colab.research.google.com/github/blortle-dev/data-science-lasa/blob/main/Unit%205/Unit5ExercisesSF.ipynb\" target=\"_parent\"><img src=\"https://colab.research.google.com/assets/colab-badge.svg\" alt=\"Open In Colab\"/></a>"
      ]
    },
    {
      "cell_type": "code",
      "execution_count": 2,
      "metadata": {
        "id": "qs2hoH_5mShq"
      },
      "outputs": [],
      "source": [
        "import numpy as np\n",
        "from matplotlib import pyplot as plt\n",
        "import seaborn as sns\n",
        "import pandas as pd\n",
        "import arviz as az\n",
        "import xarray as xr\n",
        "import pymc as pm\n",
        "from scipy.interpolate import PchipInterpolator"
      ]
    },
    {
      "cell_type": "markdown",
      "source": [
        "# Unit 5 Exercises: Leverage + Practice with GLMs\n",
        "\n",
        "In these exercises, we'll focus on:\n",
        "- how to recognize high leverage values, and what to do about them.\n",
        "- how to decide when a generalized linear model is better than than an all normal, straight line model\n",
        "\n",
        "We'll start  by looking at the full NBA data set from class, and interogate why I removed so many observations from that data set.\n",
        "\n",
        "We'll finish with another classic data set, some deemographic data from the Kalahari !Kung San people collected by Nancy Howell in Botswana between August 1967 and May 1969."
      ],
      "metadata": {
        "id": "IX5MHHagmoHb"
      }
    },
    {
      "cell_type": "markdown",
      "source": [
        "##Leverage\n",
        "\n",
        "Let's take a look at the full basketball data set."
      ],
      "metadata": {
        "id": "3yu7iPPawal0"
      }
    },
    {
      "cell_type": "code",
      "source": [
        "#load the data into a pandas dataframe, and print it\n",
        "url_basketball = 'https://raw.githubusercontent.com/thedarredondo/data-science-fundamentals/main/Data/basketball2324.csv'\n",
        "#I could have put the url string directly into pd.read_csv()\n",
        "basketball = pd.read_csv(url_basketball,dtype={'Pos':'category'})"
      ],
      "metadata": {
        "id": "sXWTI13RcC3r"
      },
      "execution_count": 3,
      "outputs": []
    },
    {
      "cell_type": "markdown",
      "source": [
        "Before, we put a minutes restriction on what players we looked at, and removed anyone who never missed a free throw.\n",
        "\n",
        "I've commented out that code, for reference, below. We're going to attempt to run the same analysis without removing any data"
      ],
      "metadata": {
        "id": "LtprSjrGwjE2"
      }
    },
    {
      "cell_type": "code",
      "source": [
        "#only look at players who played more than 400 minutes\n",
        "#basketball = basketball.query('MP > 400')\n",
        "#remove players who never missed a free throw\n",
        "#basketball = basketball.query('`FT%` != 1.0')"
      ],
      "metadata": {
        "id": "2jPNHW7Gau9J"
      },
      "execution_count": 4,
      "outputs": []
    },
    {
      "cell_type": "code",
      "source": [
        "basketball"
      ],
      "metadata": {
        "id": "3VCNwBwjcU2r",
        "colab": {
          "base_uri": "https://localhost:8080/",
          "height": 424
        },
        "outputId": "6f64f0de-fc49-42b3-d826-ce2cb63233e0"
      },
      "execution_count": 5,
      "outputs": [
        {
          "output_type": "execute_result",
          "data": {
            "text/plain": [
              "                       Player   Pos  Age   Tm   G  GS    MP   FG   FGA    FG%  \\\n",
              "0            Precious Achiuwa  PF-C   24  TOT  74  18  1624  235   469  0.501   \n",
              "1                 Bam Adebayo     C   26  MIA  71  71  2416  530  1017  0.521   \n",
              "2                Ochai Agbaji    SG   23  TOT  78  28  1641  178   433  0.411   \n",
              "3                Santi Aldama    PF   23  MEM  61  35  1618  247   568  0.435   \n",
              "4    Nickeil Alexander-Walker    SG   25  MIN  82  20  1921  236   538  0.439   \n",
              "..                        ...   ...  ...  ...  ..  ..   ...  ...   ...    ...   \n",
              "567            Thaddeus Young    PF   35  TOT  33   6   439   65   108  0.602   \n",
              "568                Trae Young    PG   25  ATL  54  54  1942  433  1008  0.430   \n",
              "569            Omer Yurtseven     C   25  UTA  48  12   545   99   184  0.538   \n",
              "570               Cody Zeller     C   31  NOP  43   0   320   26    62  0.419   \n",
              "571               Ivica Zubac     C   26  LAC  68  68  1794  337   519  0.649   \n",
              "\n",
              "     ...  ORB  DRB  TRB  AST  STL  BLK  TOV   PF   PTS  Player-additional  \n",
              "0    ...  191  296  487   97   46   68   83  143   565          achiupr01  \n",
              "1    ...  159  578  737  278   81   66  162  159  1367          adebaba01  \n",
              "2    ...   74  142  216   83   47   44   64  117   455          agbajoc01  \n",
              "3    ...   72  280  352  138   43   54   69   89   654          aldamsa01  \n",
              "4    ...   35  132  167  204   64   42   76  143   655          alexani01  \n",
              "..   ...  ...  ...  ...  ...  ...  ...  ...  ...   ...                ...  \n",
              "567  ...   46   57  103   57   23    5   15   49   137          youngth01  \n",
              "568  ...   23  126  149  583   72   11  235  109  1389          youngtr01  \n",
              "569  ...   72  136  208   29    8   18   37   52   222          yurtsom01  \n",
              "570  ...   48   64  112   39    9    5   16   45    76          zelleco01  \n",
              "571  ...  196  430  626   93   22   83   79  180   794          zubaciv01  \n",
              "\n",
              "[572 rows x 30 columns]"
            ],
            "text/html": [
              "\n",
              "  <div id=\"df-7b04b3ee-1c99-43ee-ad69-e1b16167390c\" class=\"colab-df-container\">\n",
              "    <div>\n",
              "<style scoped>\n",
              "    .dataframe tbody tr th:only-of-type {\n",
              "        vertical-align: middle;\n",
              "    }\n",
              "\n",
              "    .dataframe tbody tr th {\n",
              "        vertical-align: top;\n",
              "    }\n",
              "\n",
              "    .dataframe thead th {\n",
              "        text-align: right;\n",
              "    }\n",
              "</style>\n",
              "<table border=\"1\" class=\"dataframe\">\n",
              "  <thead>\n",
              "    <tr style=\"text-align: right;\">\n",
              "      <th></th>\n",
              "      <th>Player</th>\n",
              "      <th>Pos</th>\n",
              "      <th>Age</th>\n",
              "      <th>Tm</th>\n",
              "      <th>G</th>\n",
              "      <th>GS</th>\n",
              "      <th>MP</th>\n",
              "      <th>FG</th>\n",
              "      <th>FGA</th>\n",
              "      <th>FG%</th>\n",
              "      <th>...</th>\n",
              "      <th>ORB</th>\n",
              "      <th>DRB</th>\n",
              "      <th>TRB</th>\n",
              "      <th>AST</th>\n",
              "      <th>STL</th>\n",
              "      <th>BLK</th>\n",
              "      <th>TOV</th>\n",
              "      <th>PF</th>\n",
              "      <th>PTS</th>\n",
              "      <th>Player-additional</th>\n",
              "    </tr>\n",
              "  </thead>\n",
              "  <tbody>\n",
              "    <tr>\n",
              "      <th>0</th>\n",
              "      <td>Precious Achiuwa</td>\n",
              "      <td>PF-C</td>\n",
              "      <td>24</td>\n",
              "      <td>TOT</td>\n",
              "      <td>74</td>\n",
              "      <td>18</td>\n",
              "      <td>1624</td>\n",
              "      <td>235</td>\n",
              "      <td>469</td>\n",
              "      <td>0.501</td>\n",
              "      <td>...</td>\n",
              "      <td>191</td>\n",
              "      <td>296</td>\n",
              "      <td>487</td>\n",
              "      <td>97</td>\n",
              "      <td>46</td>\n",
              "      <td>68</td>\n",
              "      <td>83</td>\n",
              "      <td>143</td>\n",
              "      <td>565</td>\n",
              "      <td>achiupr01</td>\n",
              "    </tr>\n",
              "    <tr>\n",
              "      <th>1</th>\n",
              "      <td>Bam Adebayo</td>\n",
              "      <td>C</td>\n",
              "      <td>26</td>\n",
              "      <td>MIA</td>\n",
              "      <td>71</td>\n",
              "      <td>71</td>\n",
              "      <td>2416</td>\n",
              "      <td>530</td>\n",
              "      <td>1017</td>\n",
              "      <td>0.521</td>\n",
              "      <td>...</td>\n",
              "      <td>159</td>\n",
              "      <td>578</td>\n",
              "      <td>737</td>\n",
              "      <td>278</td>\n",
              "      <td>81</td>\n",
              "      <td>66</td>\n",
              "      <td>162</td>\n",
              "      <td>159</td>\n",
              "      <td>1367</td>\n",
              "      <td>adebaba01</td>\n",
              "    </tr>\n",
              "    <tr>\n",
              "      <th>2</th>\n",
              "      <td>Ochai Agbaji</td>\n",
              "      <td>SG</td>\n",
              "      <td>23</td>\n",
              "      <td>TOT</td>\n",
              "      <td>78</td>\n",
              "      <td>28</td>\n",
              "      <td>1641</td>\n",
              "      <td>178</td>\n",
              "      <td>433</td>\n",
              "      <td>0.411</td>\n",
              "      <td>...</td>\n",
              "      <td>74</td>\n",
              "      <td>142</td>\n",
              "      <td>216</td>\n",
              "      <td>83</td>\n",
              "      <td>47</td>\n",
              "      <td>44</td>\n",
              "      <td>64</td>\n",
              "      <td>117</td>\n",
              "      <td>455</td>\n",
              "      <td>agbajoc01</td>\n",
              "    </tr>\n",
              "    <tr>\n",
              "      <th>3</th>\n",
              "      <td>Santi Aldama</td>\n",
              "      <td>PF</td>\n",
              "      <td>23</td>\n",
              "      <td>MEM</td>\n",
              "      <td>61</td>\n",
              "      <td>35</td>\n",
              "      <td>1618</td>\n",
              "      <td>247</td>\n",
              "      <td>568</td>\n",
              "      <td>0.435</td>\n",
              "      <td>...</td>\n",
              "      <td>72</td>\n",
              "      <td>280</td>\n",
              "      <td>352</td>\n",
              "      <td>138</td>\n",
              "      <td>43</td>\n",
              "      <td>54</td>\n",
              "      <td>69</td>\n",
              "      <td>89</td>\n",
              "      <td>654</td>\n",
              "      <td>aldamsa01</td>\n",
              "    </tr>\n",
              "    <tr>\n",
              "      <th>4</th>\n",
              "      <td>Nickeil Alexander-Walker</td>\n",
              "      <td>SG</td>\n",
              "      <td>25</td>\n",
              "      <td>MIN</td>\n",
              "      <td>82</td>\n",
              "      <td>20</td>\n",
              "      <td>1921</td>\n",
              "      <td>236</td>\n",
              "      <td>538</td>\n",
              "      <td>0.439</td>\n",
              "      <td>...</td>\n",
              "      <td>35</td>\n",
              "      <td>132</td>\n",
              "      <td>167</td>\n",
              "      <td>204</td>\n",
              "      <td>64</td>\n",
              "      <td>42</td>\n",
              "      <td>76</td>\n",
              "      <td>143</td>\n",
              "      <td>655</td>\n",
              "      <td>alexani01</td>\n",
              "    </tr>\n",
              "    <tr>\n",
              "      <th>...</th>\n",
              "      <td>...</td>\n",
              "      <td>...</td>\n",
              "      <td>...</td>\n",
              "      <td>...</td>\n",
              "      <td>...</td>\n",
              "      <td>...</td>\n",
              "      <td>...</td>\n",
              "      <td>...</td>\n",
              "      <td>...</td>\n",
              "      <td>...</td>\n",
              "      <td>...</td>\n",
              "      <td>...</td>\n",
              "      <td>...</td>\n",
              "      <td>...</td>\n",
              "      <td>...</td>\n",
              "      <td>...</td>\n",
              "      <td>...</td>\n",
              "      <td>...</td>\n",
              "      <td>...</td>\n",
              "      <td>...</td>\n",
              "      <td>...</td>\n",
              "    </tr>\n",
              "    <tr>\n",
              "      <th>567</th>\n",
              "      <td>Thaddeus Young</td>\n",
              "      <td>PF</td>\n",
              "      <td>35</td>\n",
              "      <td>TOT</td>\n",
              "      <td>33</td>\n",
              "      <td>6</td>\n",
              "      <td>439</td>\n",
              "      <td>65</td>\n",
              "      <td>108</td>\n",
              "      <td>0.602</td>\n",
              "      <td>...</td>\n",
              "      <td>46</td>\n",
              "      <td>57</td>\n",
              "      <td>103</td>\n",
              "      <td>57</td>\n",
              "      <td>23</td>\n",
              "      <td>5</td>\n",
              "      <td>15</td>\n",
              "      <td>49</td>\n",
              "      <td>137</td>\n",
              "      <td>youngth01</td>\n",
              "    </tr>\n",
              "    <tr>\n",
              "      <th>568</th>\n",
              "      <td>Trae Young</td>\n",
              "      <td>PG</td>\n",
              "      <td>25</td>\n",
              "      <td>ATL</td>\n",
              "      <td>54</td>\n",
              "      <td>54</td>\n",
              "      <td>1942</td>\n",
              "      <td>433</td>\n",
              "      <td>1008</td>\n",
              "      <td>0.430</td>\n",
              "      <td>...</td>\n",
              "      <td>23</td>\n",
              "      <td>126</td>\n",
              "      <td>149</td>\n",
              "      <td>583</td>\n",
              "      <td>72</td>\n",
              "      <td>11</td>\n",
              "      <td>235</td>\n",
              "      <td>109</td>\n",
              "      <td>1389</td>\n",
              "      <td>youngtr01</td>\n",
              "    </tr>\n",
              "    <tr>\n",
              "      <th>569</th>\n",
              "      <td>Omer Yurtseven</td>\n",
              "      <td>C</td>\n",
              "      <td>25</td>\n",
              "      <td>UTA</td>\n",
              "      <td>48</td>\n",
              "      <td>12</td>\n",
              "      <td>545</td>\n",
              "      <td>99</td>\n",
              "      <td>184</td>\n",
              "      <td>0.538</td>\n",
              "      <td>...</td>\n",
              "      <td>72</td>\n",
              "      <td>136</td>\n",
              "      <td>208</td>\n",
              "      <td>29</td>\n",
              "      <td>8</td>\n",
              "      <td>18</td>\n",
              "      <td>37</td>\n",
              "      <td>52</td>\n",
              "      <td>222</td>\n",
              "      <td>yurtsom01</td>\n",
              "    </tr>\n",
              "    <tr>\n",
              "      <th>570</th>\n",
              "      <td>Cody Zeller</td>\n",
              "      <td>C</td>\n",
              "      <td>31</td>\n",
              "      <td>NOP</td>\n",
              "      <td>43</td>\n",
              "      <td>0</td>\n",
              "      <td>320</td>\n",
              "      <td>26</td>\n",
              "      <td>62</td>\n",
              "      <td>0.419</td>\n",
              "      <td>...</td>\n",
              "      <td>48</td>\n",
              "      <td>64</td>\n",
              "      <td>112</td>\n",
              "      <td>39</td>\n",
              "      <td>9</td>\n",
              "      <td>5</td>\n",
              "      <td>16</td>\n",
              "      <td>45</td>\n",
              "      <td>76</td>\n",
              "      <td>zelleco01</td>\n",
              "    </tr>\n",
              "    <tr>\n",
              "      <th>571</th>\n",
              "      <td>Ivica Zubac</td>\n",
              "      <td>C</td>\n",
              "      <td>26</td>\n",
              "      <td>LAC</td>\n",
              "      <td>68</td>\n",
              "      <td>68</td>\n",
              "      <td>1794</td>\n",
              "      <td>337</td>\n",
              "      <td>519</td>\n",
              "      <td>0.649</td>\n",
              "      <td>...</td>\n",
              "      <td>196</td>\n",
              "      <td>430</td>\n",
              "      <td>626</td>\n",
              "      <td>93</td>\n",
              "      <td>22</td>\n",
              "      <td>83</td>\n",
              "      <td>79</td>\n",
              "      <td>180</td>\n",
              "      <td>794</td>\n",
              "      <td>zubaciv01</td>\n",
              "    </tr>\n",
              "  </tbody>\n",
              "</table>\n",
              "<p>572 rows × 30 columns</p>\n",
              "</div>\n",
              "    <div class=\"colab-df-buttons\">\n",
              "\n",
              "  <div class=\"colab-df-container\">\n",
              "    <button class=\"colab-df-convert\" onclick=\"convertToInteractive('df-7b04b3ee-1c99-43ee-ad69-e1b16167390c')\"\n",
              "            title=\"Convert this dataframe to an interactive table.\"\n",
              "            style=\"display:none;\">\n",
              "\n",
              "  <svg xmlns=\"http://www.w3.org/2000/svg\" height=\"24px\" viewBox=\"0 -960 960 960\">\n",
              "    <path d=\"M120-120v-720h720v720H120Zm60-500h600v-160H180v160Zm220 220h160v-160H400v160Zm0 220h160v-160H400v160ZM180-400h160v-160H180v160Zm440 0h160v-160H620v160ZM180-180h160v-160H180v160Zm440 0h160v-160H620v160Z\"/>\n",
              "  </svg>\n",
              "    </button>\n",
              "\n",
              "  <style>\n",
              "    .colab-df-container {\n",
              "      display:flex;\n",
              "      gap: 12px;\n",
              "    }\n",
              "\n",
              "    .colab-df-convert {\n",
              "      background-color: #E8F0FE;\n",
              "      border: none;\n",
              "      border-radius: 50%;\n",
              "      cursor: pointer;\n",
              "      display: none;\n",
              "      fill: #1967D2;\n",
              "      height: 32px;\n",
              "      padding: 0 0 0 0;\n",
              "      width: 32px;\n",
              "    }\n",
              "\n",
              "    .colab-df-convert:hover {\n",
              "      background-color: #E2EBFA;\n",
              "      box-shadow: 0px 1px 2px rgba(60, 64, 67, 0.3), 0px 1px 3px 1px rgba(60, 64, 67, 0.15);\n",
              "      fill: #174EA6;\n",
              "    }\n",
              "\n",
              "    .colab-df-buttons div {\n",
              "      margin-bottom: 4px;\n",
              "    }\n",
              "\n",
              "    [theme=dark] .colab-df-convert {\n",
              "      background-color: #3B4455;\n",
              "      fill: #D2E3FC;\n",
              "    }\n",
              "\n",
              "    [theme=dark] .colab-df-convert:hover {\n",
              "      background-color: #434B5C;\n",
              "      box-shadow: 0px 1px 3px 1px rgba(0, 0, 0, 0.15);\n",
              "      filter: drop-shadow(0px 1px 2px rgba(0, 0, 0, 0.3));\n",
              "      fill: #FFFFFF;\n",
              "    }\n",
              "  </style>\n",
              "\n",
              "    <script>\n",
              "      const buttonEl =\n",
              "        document.querySelector('#df-7b04b3ee-1c99-43ee-ad69-e1b16167390c button.colab-df-convert');\n",
              "      buttonEl.style.display =\n",
              "        google.colab.kernel.accessAllowed ? 'block' : 'none';\n",
              "\n",
              "      async function convertToInteractive(key) {\n",
              "        const element = document.querySelector('#df-7b04b3ee-1c99-43ee-ad69-e1b16167390c');\n",
              "        const dataTable =\n",
              "          await google.colab.kernel.invokeFunction('convertToInteractive',\n",
              "                                                    [key], {});\n",
              "        if (!dataTable) return;\n",
              "\n",
              "        const docLinkHtml = 'Like what you see? Visit the ' +\n",
              "          '<a target=\"_blank\" href=https://colab.research.google.com/notebooks/data_table.ipynb>data table notebook</a>'\n",
              "          + ' to learn more about interactive tables.';\n",
              "        element.innerHTML = '';\n",
              "        dataTable['output_type'] = 'display_data';\n",
              "        await google.colab.output.renderOutput(dataTable, element);\n",
              "        const docLink = document.createElement('div');\n",
              "        docLink.innerHTML = docLinkHtml;\n",
              "        element.appendChild(docLink);\n",
              "      }\n",
              "    </script>\n",
              "  </div>\n",
              "\n",
              "\n",
              "<div id=\"df-aaa36cb1-4796-4888-b740-69ef2c8bbc29\">\n",
              "  <button class=\"colab-df-quickchart\" onclick=\"quickchart('df-aaa36cb1-4796-4888-b740-69ef2c8bbc29')\"\n",
              "            title=\"Suggest charts\"\n",
              "            style=\"display:none;\">\n",
              "\n",
              "<svg xmlns=\"http://www.w3.org/2000/svg\" height=\"24px\"viewBox=\"0 0 24 24\"\n",
              "     width=\"24px\">\n",
              "    <g>\n",
              "        <path d=\"M19 3H5c-1.1 0-2 .9-2 2v14c0 1.1.9 2 2 2h14c1.1 0 2-.9 2-2V5c0-1.1-.9-2-2-2zM9 17H7v-7h2v7zm4 0h-2V7h2v10zm4 0h-2v-4h2v4z\"/>\n",
              "    </g>\n",
              "</svg>\n",
              "  </button>\n",
              "\n",
              "<style>\n",
              "  .colab-df-quickchart {\n",
              "      --bg-color: #E8F0FE;\n",
              "      --fill-color: #1967D2;\n",
              "      --hover-bg-color: #E2EBFA;\n",
              "      --hover-fill-color: #174EA6;\n",
              "      --disabled-fill-color: #AAA;\n",
              "      --disabled-bg-color: #DDD;\n",
              "  }\n",
              "\n",
              "  [theme=dark] .colab-df-quickchart {\n",
              "      --bg-color: #3B4455;\n",
              "      --fill-color: #D2E3FC;\n",
              "      --hover-bg-color: #434B5C;\n",
              "      --hover-fill-color: #FFFFFF;\n",
              "      --disabled-bg-color: #3B4455;\n",
              "      --disabled-fill-color: #666;\n",
              "  }\n",
              "\n",
              "  .colab-df-quickchart {\n",
              "    background-color: var(--bg-color);\n",
              "    border: none;\n",
              "    border-radius: 50%;\n",
              "    cursor: pointer;\n",
              "    display: none;\n",
              "    fill: var(--fill-color);\n",
              "    height: 32px;\n",
              "    padding: 0;\n",
              "    width: 32px;\n",
              "  }\n",
              "\n",
              "  .colab-df-quickchart:hover {\n",
              "    background-color: var(--hover-bg-color);\n",
              "    box-shadow: 0 1px 2px rgba(60, 64, 67, 0.3), 0 1px 3px 1px rgba(60, 64, 67, 0.15);\n",
              "    fill: var(--button-hover-fill-color);\n",
              "  }\n",
              "\n",
              "  .colab-df-quickchart-complete:disabled,\n",
              "  .colab-df-quickchart-complete:disabled:hover {\n",
              "    background-color: var(--disabled-bg-color);\n",
              "    fill: var(--disabled-fill-color);\n",
              "    box-shadow: none;\n",
              "  }\n",
              "\n",
              "  .colab-df-spinner {\n",
              "    border: 2px solid var(--fill-color);\n",
              "    border-color: transparent;\n",
              "    border-bottom-color: var(--fill-color);\n",
              "    animation:\n",
              "      spin 1s steps(1) infinite;\n",
              "  }\n",
              "\n",
              "  @keyframes spin {\n",
              "    0% {\n",
              "      border-color: transparent;\n",
              "      border-bottom-color: var(--fill-color);\n",
              "      border-left-color: var(--fill-color);\n",
              "    }\n",
              "    20% {\n",
              "      border-color: transparent;\n",
              "      border-left-color: var(--fill-color);\n",
              "      border-top-color: var(--fill-color);\n",
              "    }\n",
              "    30% {\n",
              "      border-color: transparent;\n",
              "      border-left-color: var(--fill-color);\n",
              "      border-top-color: var(--fill-color);\n",
              "      border-right-color: var(--fill-color);\n",
              "    }\n",
              "    40% {\n",
              "      border-color: transparent;\n",
              "      border-right-color: var(--fill-color);\n",
              "      border-top-color: var(--fill-color);\n",
              "    }\n",
              "    60% {\n",
              "      border-color: transparent;\n",
              "      border-right-color: var(--fill-color);\n",
              "    }\n",
              "    80% {\n",
              "      border-color: transparent;\n",
              "      border-right-color: var(--fill-color);\n",
              "      border-bottom-color: var(--fill-color);\n",
              "    }\n",
              "    90% {\n",
              "      border-color: transparent;\n",
              "      border-bottom-color: var(--fill-color);\n",
              "    }\n",
              "  }\n",
              "</style>\n",
              "\n",
              "  <script>\n",
              "    async function quickchart(key) {\n",
              "      const quickchartButtonEl =\n",
              "        document.querySelector('#' + key + ' button');\n",
              "      quickchartButtonEl.disabled = true;  // To prevent multiple clicks.\n",
              "      quickchartButtonEl.classList.add('colab-df-spinner');\n",
              "      try {\n",
              "        const charts = await google.colab.kernel.invokeFunction(\n",
              "            'suggestCharts', [key], {});\n",
              "      } catch (error) {\n",
              "        console.error('Error during call to suggestCharts:', error);\n",
              "      }\n",
              "      quickchartButtonEl.classList.remove('colab-df-spinner');\n",
              "      quickchartButtonEl.classList.add('colab-df-quickchart-complete');\n",
              "    }\n",
              "    (() => {\n",
              "      let quickchartButtonEl =\n",
              "        document.querySelector('#df-aaa36cb1-4796-4888-b740-69ef2c8bbc29 button');\n",
              "      quickchartButtonEl.style.display =\n",
              "        google.colab.kernel.accessAllowed ? 'block' : 'none';\n",
              "    })();\n",
              "  </script>\n",
              "</div>\n",
              "\n",
              "  <div id=\"id_ee85c588-b48c-4f97-b163-20d5ff1bf8cd\">\n",
              "    <style>\n",
              "      .colab-df-generate {\n",
              "        background-color: #E8F0FE;\n",
              "        border: none;\n",
              "        border-radius: 50%;\n",
              "        cursor: pointer;\n",
              "        display: none;\n",
              "        fill: #1967D2;\n",
              "        height: 32px;\n",
              "        padding: 0 0 0 0;\n",
              "        width: 32px;\n",
              "      }\n",
              "\n",
              "      .colab-df-generate:hover {\n",
              "        background-color: #E2EBFA;\n",
              "        box-shadow: 0px 1px 2px rgba(60, 64, 67, 0.3), 0px 1px 3px 1px rgba(60, 64, 67, 0.15);\n",
              "        fill: #174EA6;\n",
              "      }\n",
              "\n",
              "      [theme=dark] .colab-df-generate {\n",
              "        background-color: #3B4455;\n",
              "        fill: #D2E3FC;\n",
              "      }\n",
              "\n",
              "      [theme=dark] .colab-df-generate:hover {\n",
              "        background-color: #434B5C;\n",
              "        box-shadow: 0px 1px 3px 1px rgba(0, 0, 0, 0.15);\n",
              "        filter: drop-shadow(0px 1px 2px rgba(0, 0, 0, 0.3));\n",
              "        fill: #FFFFFF;\n",
              "      }\n",
              "    </style>\n",
              "    <button class=\"colab-df-generate\" onclick=\"generateWithVariable('basketball')\"\n",
              "            title=\"Generate code using this dataframe.\"\n",
              "            style=\"display:none;\">\n",
              "\n",
              "  <svg xmlns=\"http://www.w3.org/2000/svg\" height=\"24px\"viewBox=\"0 0 24 24\"\n",
              "       width=\"24px\">\n",
              "    <path d=\"M7,19H8.4L18.45,9,17,7.55,7,17.6ZM5,21V16.75L18.45,3.32a2,2,0,0,1,2.83,0l1.4,1.43a1.91,1.91,0,0,1,.58,1.4,1.91,1.91,0,0,1-.58,1.4L9.25,21ZM18.45,9,17,7.55Zm-12,3A5.31,5.31,0,0,0,4.9,8.1,5.31,5.31,0,0,0,1,6.5,5.31,5.31,0,0,0,4.9,4.9,5.31,5.31,0,0,0,6.5,1,5.31,5.31,0,0,0,8.1,4.9,5.31,5.31,0,0,0,12,6.5,5.46,5.46,0,0,0,6.5,12Z\"/>\n",
              "  </svg>\n",
              "    </button>\n",
              "    <script>\n",
              "      (() => {\n",
              "      const buttonEl =\n",
              "        document.querySelector('#id_ee85c588-b48c-4f97-b163-20d5ff1bf8cd button.colab-df-generate');\n",
              "      buttonEl.style.display =\n",
              "        google.colab.kernel.accessAllowed ? 'block' : 'none';\n",
              "\n",
              "      buttonEl.onclick = () => {\n",
              "        google.colab.notebook.generateWithVariable('basketball');\n",
              "      }\n",
              "      })();\n",
              "    </script>\n",
              "  </div>\n",
              "\n",
              "    </div>\n",
              "  </div>\n"
            ],
            "application/vnd.google.colaboratory.intrinsic+json": {
              "type": "dataframe",
              "variable_name": "basketball"
            }
          },
          "metadata": {},
          "execution_count": 5
        }
      ]
    },
    {
      "cell_type": "markdown",
      "source": [
        "**Task1**:\n",
        "\n",
        "Make a scatter plot with FT% of each player on the horizontal axis and FG% on the vertical axis.\n",
        "\n",
        "What patterns do you notice? Why do you think they are there?"
      ],
      "metadata": {
        "id": "scVQqYh4zxvn"
      }
    },
    {
      "cell_type": "code",
      "source": [
        "basketball.plot(x=\"FT%\", y=\"FG%\", figsize=(12, 3), kind=\"scatter\")"
      ],
      "metadata": {
        "colab": {
          "base_uri": "https://localhost:8080/",
          "height": 328
        },
        "id": "53_ycKY42-HV",
        "outputId": "c8b63279-fbb9-4891-9d2f-949c45de2a49"
      },
      "execution_count": 7,
      "outputs": [
        {
          "output_type": "execute_result",
          "data": {
            "text/plain": [
              "<Axes: xlabel='FT%', ylabel='FG%'>"
            ]
          },
          "metadata": {},
          "execution_count": 7
        },
        {
          "output_type": "display_data",
          "data": {
            "text/plain": [
              "<Figure size 1200x300 with 1 Axes>"
            ],
            "image/png": "[encoded data removed]"
          },
          "metadata": {}
        }
      ]
    },
    {
      "cell_type": "markdown",
      "source": [
        "I notice that the data clumps up a lot between ~0.7 and ~0.9, and that there are vertical lines at 0.0, 0.5, and 1.0."
      ],
      "metadata": {
        "id": "xdVV52Oh3JIT"
      }
    },
    {
      "cell_type": "markdown",
      "source": [
        "**Task2**:\n",
        "\n",
        "Make a scatter plot with FT% on the horizontal axis and FG% on the vertical axis. Do this for each each Position in the data set.\n",
        "\n",
        "Pay special attention to the plots for C and PF."
      ],
      "metadata": {
        "id": "uXM7Ahxdyxc4"
      }
    },
    {
      "cell_type": "code",
      "source": [
        "# Used this to see all possible positions\n",
        "\n",
        "basketball.plot(x=\"Pos\", y=\"FG%\", figsize=(12, 3), kind=\"scatter\")"
      ],
      "metadata": {
        "outputId": "995f50a8-3205-4df2-b317-aeff9a62d34d",
        "colab": {
          "base_uri": "https://localhost:8080/",
          "height": 328
        },
        "id": "2BevhFLu7-Jx"
      },
      "execution_count": 14,
      "outputs": [
        {
          "output_type": "execute_result",
          "data": {
            "text/plain": [
              "<Axes: xlabel='Pos', ylabel='FG%'>"
            ]
          },
          "metadata": {},
          "execution_count": 14
        },
        {
          "output_type": "display_data",
          "data": {
            "text/plain": [
              "<Figure size 1200x300 with 1 Axes>"
            ],
            "image/png": "[encoded data removed]"
          },
          "metadata": {}
        }
      ]
    },
    {
      "cell_type": "code",
      "source": [
        "# POSITION: C\n",
        "c_filtered = basketball[basketball['Pos'] == 'C']\n",
        "c_filtered.plot(x=\"FT%\", y=\"FG%\", figsize=(12, 3), kind=\"scatter\")"
      ],
      "metadata": {
        "colab": {
          "base_uri": "https://localhost:8080/",
          "height": 328
        },
        "id": "JKEeblqG3dLH",
        "outputId": "49f4d78e-1345-4eda-afcf-58ca8624473f"
      },
      "execution_count": 12,
      "outputs": [
        {
          "output_type": "execute_result",
          "data": {
            "text/plain": [
              "<Axes: xlabel='FT%', ylabel='FG%'>"
            ]
          },
          "metadata": {},
          "execution_count": 12
        },
        {
          "output_type": "display_data",
          "data": {
            "text/plain": [
              "<Figure size 1200x300 with 1 Axes>"
            ],
            "image/png": "[encoded data removed]"
          },
          "metadata": {}
        }
      ]
    },
    {
      "cell_type": "code",
      "source": [
        "# POSITION: PF\n",
        "pf_filtered = basketball[basketball['Pos'] == 'PF']\n",
        "pf_filtered.plot(x=\"FT%\", y=\"FG%\", figsize=(12, 3), kind=\"scatter\")"
      ],
      "metadata": {
        "outputId": "8c0ad58e-77d0-4cac-90b3-08e394224b49",
        "colab": {
          "base_uri": "https://localhost:8080/",
          "height": 328
        },
        "id": "8dzzFzD872JJ"
      },
      "execution_count": 13,
      "outputs": [
        {
          "output_type": "execute_result",
          "data": {
            "text/plain": [
              "<Axes: xlabel='FT%', ylabel='FG%'>"
            ]
          },
          "metadata": {},
          "execution_count": 13
        },
        {
          "output_type": "display_data",
          "data": {
            "text/plain": [
              "<Figure size 1200x300 with 1 Axes>"
            ],
            "image/png": "[encoded data removed]"
          },
          "metadata": {}
        }
      ]
    },
    {
      "cell_type": "code",
      "source": [
        "# POSITION: SG\n",
        "sg_filtered = basketball[basketball['Pos'] == 'SG']\n",
        "sg_filtered.plot(x=\"FT%\", y=\"FG%\", figsize=(12, 3), kind=\"scatter\")"
      ],
      "metadata": {
        "outputId": "2a78bd41-7774-4404-dda1-15c81cbdf3cf",
        "colab": {
          "base_uri": "https://localhost:8080/",
          "height": 328
        },
        "id": "A7aZWvHo8Whr"
      },
      "execution_count": 16,
      "outputs": [
        {
          "output_type": "execute_result",
          "data": {
            "text/plain": [
              "<Axes: xlabel='FT%', ylabel='FG%'>"
            ]
          },
          "metadata": {},
          "execution_count": 16
        },
        {
          "output_type": "display_data",
          "data": {
            "text/plain": [
              "<Figure size 1200x300 with 1 Axes>"
            ],
            "image/png": "[encoded data removed]"
          },
          "metadata": {}
        }
      ]
    },
    {
      "cell_type": "code",
      "source": [
        "# POSITION: SF\n",
        "sf_filtered = basketball[basketball['Pos'] == 'SF']\n",
        "sf_filtered.plot(x=\"FT%\", y=\"FG%\", figsize=(12, 3), kind=\"scatter\")"
      ],
      "metadata": {
        "outputId": "8f65c226-b770-404f-cd81-f74d3e365f60",
        "colab": {
          "base_uri": "https://localhost:8080/",
          "height": 328
        },
        "id": "gSo07wyD8azI"
      },
      "execution_count": 17,
      "outputs": [
        {
          "output_type": "execute_result",
          "data": {
            "text/plain": [
              "<Axes: xlabel='FT%', ylabel='FG%'>"
            ]
          },
          "metadata": {},
          "execution_count": 17
        },
        {
          "output_type": "display_data",
          "data": {
            "text/plain": [
              "<Figure size 1200x300 with 1 Axes>"
            ],
            "image/png": "[encoded data removed]"
          },
          "metadata": {}
        }
      ]
    },
    {
      "cell_type": "code",
      "source": [
        "# POSITION: PG\n",
        "pg_filtered = basketball[basketball['Pos'] == 'PG']\n",
        "pg_filtered.plot(x=\"FT%\", y=\"FG%\", figsize=(12, 3), kind=\"scatter\")"
      ],
      "metadata": {
        "outputId": "cf5723e2-80a0-49c9-d9b0-85c2e51df83a",
        "colab": {
          "base_uri": "https://localhost:8080/",
          "height": 330
        },
        "id": "b7JgloTz8gXF"
      },
      "execution_count": 18,
      "outputs": [
        {
          "output_type": "execute_result",
          "data": {
            "text/plain": [
              "<Axes: xlabel='FT%', ylabel='FG%'>"
            ]
          },
          "metadata": {},
          "execution_count": 18
        },
        {
          "output_type": "display_data",
          "data": {
            "text/plain": [
              "<Figure size 1200x300 with 1 Axes>"
            ],
            "image/png": "[encoded data removed]"
          },
          "metadata": {}
        }
      ]
    },
    {
      "cell_type": "code",
      "source": [
        "# POSITION: SF-PF\n",
        "sfpf_filtered = basketball[basketball['Pos'] == 'SF-PF']\n",
        "sfpf_filtered.plot(x=\"FT%\", y=\"FG%\", figsize=(12, 3), kind=\"scatter\")"
      ],
      "metadata": {
        "outputId": "b9482580-093a-4852-c6d3-4413a05661e3",
        "colab": {
          "base_uri": "https://localhost:8080/",
          "height": 328
        },
        "id": "CPGsqH0V8lSr"
      },
      "execution_count": 19,
      "outputs": [
        {
          "output_type": "execute_result",
          "data": {
            "text/plain": [
              "<Axes: xlabel='FT%', ylabel='FG%'>"
            ]
          },
          "metadata": {},
          "execution_count": 19
        },
        {
          "output_type": "display_data",
          "data": {
            "text/plain": [
              "<Figure size 1200x300 with 1 Axes>"
            ],
            "image/png": "[encoded data removed]"
          },
          "metadata": {}
        }
      ]
    },
    {
      "cell_type": "code",
      "source": [
        "# POSITION: PG-SG\n",
        "pgsg_filtered = basketball[basketball['Pos'] == 'PG-SG']\n",
        "pgsg_filtered.plot(x=\"FT%\", y=\"FG%\", figsize=(12, 3), kind=\"scatter\")"
      ],
      "metadata": {
        "outputId": "4996cd84-b906-498a-82ef-80347fbd28a4",
        "colab": {
          "base_uri": "https://localhost:8080/",
          "height": 328
        },
        "id": "mNRY-qYh9Qoj"
      },
      "execution_count": 20,
      "outputs": [
        {
          "output_type": "execute_result",
          "data": {
            "text/plain": [
              "<Axes: xlabel='FT%', ylabel='FG%'>"
            ]
          },
          "metadata": {},
          "execution_count": 20
        },
        {
          "output_type": "display_data",
          "data": {
            "text/plain": [
              "<Figure size 1200x300 with 1 Axes>"
            ],
            "image/png": "[encoded data removed]"
          },
          "metadata": {}
        }
      ]
    },
    {
      "cell_type": "code",
      "source": [
        "# POSITION: C-PF\n",
        "cpf_filtered = basketball[basketball['Pos'] == 'C-PF']\n",
        "cpf_filtered.plot(x=\"FT%\", y=\"FG%\", figsize=(12, 3), kind=\"scatter\")"
      ],
      "metadata": {
        "outputId": "40327df7-923d-4c9f-dd44-b96b99087890",
        "colab": {
          "base_uri": "https://localhost:8080/",
          "height": 328
        },
        "id": "N2xeCCd49W7u"
      },
      "execution_count": 21,
      "outputs": [
        {
          "output_type": "execute_result",
          "data": {
            "text/plain": [
              "<Axes: xlabel='FT%', ylabel='FG%'>"
            ]
          },
          "metadata": {},
          "execution_count": 21
        },
        {
          "output_type": "display_data",
          "data": {
            "text/plain": [
              "<Figure size 1200x300 with 1 Axes>"
            ],
            "image/png": "[encoded data removed]"
          },
          "metadata": {}
        }
      ]
    },
    {
      "cell_type": "code",
      "source": [
        "# POSITION: PF-C\n",
        "pfc_filtered = basketball[basketball['Pos'] == 'PF-C']\n",
        "pfc_filtered.plot(x=\"FT%\", y=\"FG%\", figsize=(12, 3), kind=\"scatter\")"
      ],
      "metadata": {
        "outputId": "8d3b5c69-fabb-4345-f065-2f21a0d8ef8b",
        "colab": {
          "base_uri": "https://localhost:8080/",
          "height": 328
        },
        "id": "xtfqDJ3o8G8U"
      },
      "execution_count": 15,
      "outputs": [
        {
          "output_type": "execute_result",
          "data": {
            "text/plain": [
              "<Axes: xlabel='FT%', ylabel='FG%'>"
            ]
          },
          "metadata": {},
          "execution_count": 15
        },
        {
          "output_type": "display_data",
          "data": {
            "text/plain": [
              "<Figure size 1200x300 with 1 Axes>"
            ],
            "image/png": "[encoded data removed]"
          },
          "metadata": {}
        }
      ]
    },
    {
      "cell_type": "code",
      "source": [
        "# POSITION: PF-SF\n",
        "pfsf_filtered = basketball[basketball['Pos'] == 'PF-SF']\n",
        "pfsf_filtered.plot(x=\"FT%\", y=\"FG%\", figsize=(12, 3), kind=\"scatter\")"
      ],
      "metadata": {
        "outputId": "7cff8618-54e6-4d29-da09-1983858614e5",
        "colab": {
          "base_uri": "https://localhost:8080/",
          "height": 328
        },
        "id": "hT-kSvW39dKr"
      },
      "execution_count": 24,
      "outputs": [
        {
          "output_type": "execute_result",
          "data": {
            "text/plain": [
              "<Axes: xlabel='FT%', ylabel='FG%'>"
            ]
          },
          "metadata": {},
          "execution_count": 24
        },
        {
          "output_type": "display_data",
          "data": {
            "text/plain": [
              "<Figure size 1200x300 with 1 Axes>"
            ],
            "image/png": "[encoded data removed]"
          },
          "metadata": {}
        }
      ]
    },
    {
      "cell_type": "code",
      "source": [
        "# POSITION: SF-SG\n",
        "sfsg_filtered = basketball[basketball['Pos'] == 'SF-SG']\n",
        "sfsg_filtered.plot(x=\"FT%\", y=\"FG%\", figsize=(12, 3), kind=\"scatter\")"
      ],
      "metadata": {
        "outputId": "c5e7a97d-0b4c-4fee-c3d6-e153ed8af2d9",
        "colab": {
          "base_uri": "https://localhost:8080/",
          "height": 328
        },
        "id": "6Q7_0PqV9flg"
      },
      "execution_count": 23,
      "outputs": [
        {
          "output_type": "execute_result",
          "data": {
            "text/plain": [
              "<Axes: xlabel='FT%', ylabel='FG%'>"
            ]
          },
          "metadata": {},
          "execution_count": 23
        },
        {
          "output_type": "display_data",
          "data": {
            "text/plain": [
              "<Figure size 1200x300 with 1 Axes>"
            ],
            "image/png": "[encoded data removed]"
          },
          "metadata": {}
        }
      ]
    },
    {
      "cell_type": "code",
      "source": [
        "# POSITION: SG-PG\n",
        "sgpg_filtered = basketball[basketball['Pos'] == 'SG-PG']\n",
        "sgpg_filtered.plot(x=\"FT%\", y=\"FG%\", figsize=(12, 3), kind=\"scatter\")"
      ],
      "metadata": {
        "outputId": "4e9e07a8-47d6-4347-8f01-66a77a899c23",
        "colab": {
          "base_uri": "https://localhost:8080/",
          "height": 328
        },
        "id": "M6uT0s569hoY"
      },
      "execution_count": 22,
      "outputs": [
        {
          "output_type": "execute_result",
          "data": {
            "text/plain": [
              "<Axes: xlabel='FT%', ylabel='FG%'>"
            ]
          },
          "metadata": {},
          "execution_count": 22
        },
        {
          "output_type": "display_data",
          "data": {
            "text/plain": [
              "<Figure size 1200x300 with 1 Axes>"
            ],
            "image/png": "[encoded data removed]"
          },
          "metadata": {}
        }
      ]
    },
    {
      "cell_type": "markdown",
      "source": [
        "**Task3**:\n",
        "\n",
        "Originally, I was going to get you to create and run an individual linear regression model for each of the positions.\n",
        "\n",
        "But I couldn't even get model to run.\n",
        "\n",
        "Explain why a linear regression model won't run on the full dataset. HInt: look at the graphs you made above, and compare and contrast them to the ones from class.\n",
        "\n",
        "Or: if you do what I could not and get a linear regression model to run on the full data set, I'll give you full credit and a high five."
      ],
      "metadata": {
        "id": "3UpbQBW91W0y"
      }
    },
    {
      "cell_type": "markdown",
      "source": [
        "Using a linear regression model would not work, as ⚠️ _**[NEEDS COMPLETION]**_ ⚠️"
      ],
      "metadata": {
        "id": "Smdi4s8W31py"
      }
    },
    {
      "cell_type": "markdown",
      "source": [
        "## From Linear Model to Generalized Linear Model\n",
        "\n",
        "You'll now fit a linear regression on the height and weight for people or the Kalahari !Kung San people. Height will be the predictor and weight will be the predicted."
      ],
      "metadata": {
        "id": "DJYIsRMRw8PN"
      }
    },
    {
      "cell_type": "markdown",
      "source": [
        "Here's the raw data."
      ],
      "metadata": {
        "id": "4JEGh9v9AATb"
      }
    },
    {
      "cell_type": "code",
      "source": [
        "#downloads the data from my github\n",
        "howell = pd.read_csv('https://raw.githubusercontent.com/thedarredondo/data-science-fundamentals/main/Data/howell.csv')"
      ],
      "metadata": {
        "id": "mv2PjhETn24x"
      },
      "execution_count": 25,
      "outputs": []
    },
    {
      "cell_type": "code",
      "source": [
        "howell"
      ],
      "metadata": {
        "id": "7tn9yfrC2Wc-",
        "colab": {
          "base_uri": "https://localhost:8080/",
          "height": 424
        },
        "outputId": "a55901b9-810b-4ff3-cbd6-e7e37916577c"
      },
      "execution_count": 26,
      "outputs": [
        {
          "output_type": "execute_result",
          "data": {
            "text/plain": [
              "      height     weight   age  male\n",
              "0    151.765  47.825606  63.0     1\n",
              "1    139.700  36.485807  63.0     0\n",
              "2    136.525  31.864838  65.0     0\n",
              "3    156.845  53.041914  41.0     1\n",
              "4    145.415  41.276872  51.0     0\n",
              "..       ...        ...   ...   ...\n",
              "539  145.415  31.127751  17.0     1\n",
              "540  162.560  52.163080  31.0     1\n",
              "541  156.210  54.062497  21.0     0\n",
              "542   71.120   8.051258   0.0     1\n",
              "543  158.750  52.531624  68.0     1\n",
              "\n",
              "[544 rows x 4 columns]"
            ],
            "text/html": [
              "\n",
              "  <div id=\"df-edc14f9e-b08f-48d5-96c6-64c3c26fcc2f\" class=\"colab-df-container\">\n",
              "    <div>\n",
              "<style scoped>\n",
              "    .dataframe tbody tr th:only-of-type {\n",
              "        vertical-align: middle;\n",
              "    }\n",
              "\n",
              "    .dataframe tbody tr th {\n",
              "        vertical-align: top;\n",
              "    }\n",
              "\n",
              "    .dataframe thead th {\n",
              "        text-align: right;\n",
              "    }\n",
              "</style>\n",
              "<table border=\"1\" class=\"dataframe\">\n",
              "  <thead>\n",
              "    <tr style=\"text-align: right;\">\n",
              "      <th></th>\n",
              "      <th>height</th>\n",
              "      <th>weight</th>\n",
              "      <th>age</th>\n",
              "      <th>male</th>\n",
              "    </tr>\n",
              "  </thead>\n",
              "  <tbody>\n",
              "    <tr>\n",
              "      <th>0</th>\n",
              "      <td>151.765</td>\n",
              "      <td>47.825606</td>\n",
              "      <td>63.0</td>\n",
              "      <td>1</td>\n",
              "    </tr>\n",
              "    <tr>\n",
              "      <th>1</th>\n",
              "      <td>139.700</td>\n",
              "      <td>36.485807</td>\n",
              "      <td>63.0</td>\n",
              "      <td>0</td>\n",
              "    </tr>\n",
              "    <tr>\n",
              "      <th>2</th>\n",
              "      <td>136.525</td>\n",
              "      <td>31.864838</td>\n",
              "      <td>65.0</td>\n",
              "      <td>0</td>\n",
              "    </tr>\n",
              "    <tr>\n",
              "      <th>3</th>\n",
              "      <td>156.845</td>\n",
              "      <td>53.041914</td>\n",
              "      <td>41.0</td>\n",
              "      <td>1</td>\n",
              "    </tr>\n",
              "    <tr>\n",
              "      <th>4</th>\n",
              "      <td>145.415</td>\n",
              "      <td>41.276872</td>\n",
              "      <td>51.0</td>\n",
              "      <td>0</td>\n",
              "    </tr>\n",
              "    <tr>\n",
              "      <th>...</th>\n",
              "      <td>...</td>\n",
              "      <td>...</td>\n",
              "      <td>...</td>\n",
              "      <td>...</td>\n",
              "    </tr>\n",
              "    <tr>\n",
              "      <th>539</th>\n",
              "      <td>145.415</td>\n",
              "      <td>31.127751</td>\n",
              "      <td>17.0</td>\n",
              "      <td>1</td>\n",
              "    </tr>\n",
              "    <tr>\n",
              "      <th>540</th>\n",
              "      <td>162.560</td>\n",
              "      <td>52.163080</td>\n",
              "      <td>31.0</td>\n",
              "      <td>1</td>\n",
              "    </tr>\n",
              "    <tr>\n",
              "      <th>541</th>\n",
              "      <td>156.210</td>\n",
              "      <td>54.062497</td>\n",
              "      <td>21.0</td>\n",
              "      <td>0</td>\n",
              "    </tr>\n",
              "    <tr>\n",
              "      <th>542</th>\n",
              "      <td>71.120</td>\n",
              "      <td>8.051258</td>\n",
              "      <td>0.0</td>\n",
              "      <td>1</td>\n",
              "    </tr>\n",
              "    <tr>\n",
              "      <th>543</th>\n",
              "      <td>158.750</td>\n",
              "      <td>52.531624</td>\n",
              "      <td>68.0</td>\n",
              "      <td>1</td>\n",
              "    </tr>\n",
              "  </tbody>\n",
              "</table>\n",
              "<p>544 rows × 4 columns</p>\n",
              "</div>\n",
              "    <div class=\"colab-df-buttons\">\n",
              "\n",
              "  <div class=\"colab-df-container\">\n",
              "    <button class=\"colab-df-convert\" onclick=\"convertToInteractive('df-edc14f9e-b08f-48d5-96c6-64c3c26fcc2f')\"\n",
              "            title=\"Convert this dataframe to an interactive table.\"\n",
              "            style=\"display:none;\">\n",
              "\n",
              "  <svg xmlns=\"http://www.w3.org/2000/svg\" height=\"24px\" viewBox=\"0 -960 960 960\">\n",
              "    <path d=\"M120-120v-720h720v720H120Zm60-500h600v-160H180v160Zm220 220h160v-160H400v160Zm0 220h160v-160H400v160ZM180-400h160v-160H180v160Zm440 0h160v-160H620v160ZM180-180h160v-160H180v160Zm440 0h160v-160H620v160Z\"/>\n",
              "  </svg>\n",
              "    </button>\n",
              "\n",
              "  <style>\n",
              "    .colab-df-container {\n",
              "      display:flex;\n",
              "      gap: 12px;\n",
              "    }\n",
              "\n",
              "    .colab-df-convert {\n",
              "      background-color: #E8F0FE;\n",
              "      border: none;\n",
              "      border-radius: 50%;\n",
              "      cursor: pointer;\n",
              "      display: none;\n",
              "      fill: #1967D2;\n",
              "      height: 32px;\n",
              "      padding: 0 0 0 0;\n",
              "      width: 32px;\n",
              "    }\n",
              "\n",
              "    .colab-df-convert:hover {\n",
              "      background-color: #E2EBFA;\n",
              "      box-shadow: 0px 1px 2px rgba(60, 64, 67, 0.3), 0px 1px 3px 1px rgba(60, 64, 67, 0.15);\n",
              "      fill: #174EA6;\n",
              "    }\n",
              "\n",
              "    .colab-df-buttons div {\n",
              "      margin-bottom: 4px;\n",
              "    }\n",
              "\n",
              "    [theme=dark] .colab-df-convert {\n",
              "      background-color: #3B4455;\n",
              "      fill: #D2E3FC;\n",
              "    }\n",
              "\n",
              "    [theme=dark] .colab-df-convert:hover {\n",
              "      background-color: #434B5C;\n",
              "      box-shadow: 0px 1px 3px 1px rgba(0, 0, 0, 0.15);\n",
              "      filter: drop-shadow(0px 1px 2px rgba(0, 0, 0, 0.3));\n",
              "      fill: #FFFFFF;\n",
              "    }\n",
              "  </style>\n",
              "\n",
              "    <script>\n",
              "      const buttonEl =\n",
              "        document.querySelector('#df-edc14f9e-b08f-48d5-96c6-64c3c26fcc2f button.colab-df-convert');\n",
              "      buttonEl.style.display =\n",
              "        google.colab.kernel.accessAllowed ? 'block' : 'none';\n",
              "\n",
              "      async function convertToInteractive(key) {\n",
              "        const element = document.querySelector('#df-edc14f9e-b08f-48d5-96c6-64c3c26fcc2f');\n",
              "        const dataTable =\n",
              "          await google.colab.kernel.invokeFunction('convertToInteractive',\n",
              "                                                    [key], {});\n",
              "        if (!dataTable) return;\n",
              "\n",
              "        const docLinkHtml = 'Like what you see? Visit the ' +\n",
              "          '<a target=\"_blank\" href=https://colab.research.google.com/notebooks/data_table.ipynb>data table notebook</a>'\n",
              "          + ' to learn more about interactive tables.';\n",
              "        element.innerHTML = '';\n",
              "        dataTable['output_type'] = 'display_data';\n",
              "        await google.colab.output.renderOutput(dataTable, element);\n",
              "        const docLink = document.createElement('div');\n",
              "        docLink.innerHTML = docLinkHtml;\n",
              "        element.appendChild(docLink);\n",
              "      }\n",
              "    </script>\n",
              "  </div>\n",
              "\n",
              "\n",
              "<div id=\"df-880e5e20-39eb-407d-b6e9-771f7f8e3772\">\n",
              "  <button class=\"colab-df-quickchart\" onclick=\"quickchart('df-880e5e20-39eb-407d-b6e9-771f7f8e3772')\"\n",
              "            title=\"Suggest charts\"\n",
              "            style=\"display:none;\">\n",
              "\n",
              "<svg xmlns=\"http://www.w3.org/2000/svg\" height=\"24px\"viewBox=\"0 0 24 24\"\n",
              "     width=\"24px\">\n",
              "    <g>\n",
              "        <path d=\"M19 3H5c-1.1 0-2 .9-2 2v14c0 1.1.9 2 2 2h14c1.1 0 2-.9 2-2V5c0-1.1-.9-2-2-2zM9 17H7v-7h2v7zm4 0h-2V7h2v10zm4 0h-2v-4h2v4z\"/>\n",
              "    </g>\n",
              "</svg>\n",
              "  </button>\n",
              "\n",
              "<style>\n",
              "  .colab-df-quickchart {\n",
              "      --bg-color: #E8F0FE;\n",
              "      --fill-color: #1967D2;\n",
              "      --hover-bg-color: #E2EBFA;\n",
              "      --hover-fill-color: #174EA6;\n",
              "      --disabled-fill-color: #AAA;\n",
              "      --disabled-bg-color: #DDD;\n",
              "  }\n",
              "\n",
              "  [theme=dark] .colab-df-quickchart {\n",
              "      --bg-color: #3B4455;\n",
              "      --fill-color: #D2E3FC;\n",
              "      --hover-bg-color: #434B5C;\n",
              "      --hover-fill-color: #FFFFFF;\n",
              "      --disabled-bg-color: #3B4455;\n",
              "      --disabled-fill-color: #666;\n",
              "  }\n",
              "\n",
              "  .colab-df-quickchart {\n",
              "    background-color: var(--bg-color);\n",
              "    border: none;\n",
              "    border-radius: 50%;\n",
              "    cursor: pointer;\n",
              "    display: none;\n",
              "    fill: var(--fill-color);\n",
              "    height: 32px;\n",
              "    padding: 0;\n",
              "    width: 32px;\n",
              "  }\n",
              "\n",
              "  .colab-df-quickchart:hover {\n",
              "    background-color: var(--hover-bg-color);\n",
              "    box-shadow: 0 1px 2px rgba(60, 64, 67, 0.3), 0 1px 3px 1px rgba(60, 64, 67, 0.15);\n",
              "    fill: var(--button-hover-fill-color);\n",
              "  }\n",
              "\n",
              "  .colab-df-quickchart-complete:disabled,\n",
              "  .colab-df-quickchart-complete:disabled:hover {\n",
              "    background-color: var(--disabled-bg-color);\n",
              "    fill: var(--disabled-fill-color);\n",
              "    box-shadow: none;\n",
              "  }\n",
              "\n",
              "  .colab-df-spinner {\n",
              "    border: 2px solid var(--fill-color);\n",
              "    border-color: transparent;\n",
              "    border-bottom-color: var(--fill-color);\n",
              "    animation:\n",
              "      spin 1s steps(1) infinite;\n",
              "  }\n",
              "\n",
              "  @keyframes spin {\n",
              "    0% {\n",
              "      border-color: transparent;\n",
              "      border-bottom-color: var(--fill-color);\n",
              "      border-left-color: var(--fill-color);\n",
              "    }\n",
              "    20% {\n",
              "      border-color: transparent;\n",
              "      border-left-color: var(--fill-color);\n",
              "      border-top-color: var(--fill-color);\n",
              "    }\n",
              "    30% {\n",
              "      border-color: transparent;\n",
              "      border-left-color: var(--fill-color);\n",
              "      border-top-color: var(--fill-color);\n",
              "      border-right-color: var(--fill-color);\n",
              "    }\n",
              "    40% {\n",
              "      border-color: transparent;\n",
              "      border-right-color: var(--fill-color);\n",
              "      border-top-color: var(--fill-color);\n",
              "    }\n",
              "    60% {\n",
              "      border-color: transparent;\n",
              "      border-right-color: var(--fill-color);\n",
              "    }\n",
              "    80% {\n",
              "      border-color: transparent;\n",
              "      border-right-color: var(--fill-color);\n",
              "      border-bottom-color: var(--fill-color);\n",
              "    }\n",
              "    90% {\n",
              "      border-color: transparent;\n",
              "      border-bottom-color: var(--fill-color);\n",
              "    }\n",
              "  }\n",
              "</style>\n",
              "\n",
              "  <script>\n",
              "    async function quickchart(key) {\n",
              "      const quickchartButtonEl =\n",
              "        document.querySelector('#' + key + ' button');\n",
              "      quickchartButtonEl.disabled = true;  // To prevent multiple clicks.\n",
              "      quickchartButtonEl.classList.add('colab-df-spinner');\n",
              "      try {\n",
              "        const charts = await google.colab.kernel.invokeFunction(\n",
              "            'suggestCharts', [key], {});\n",
              "      } catch (error) {\n",
              "        console.error('Error during call to suggestCharts:', error);\n",
              "      }\n",
              "      quickchartButtonEl.classList.remove('colab-df-spinner');\n",
              "      quickchartButtonEl.classList.add('colab-df-quickchart-complete');\n",
              "    }\n",
              "    (() => {\n",
              "      let quickchartButtonEl =\n",
              "        document.querySelector('#df-880e5e20-39eb-407d-b6e9-771f7f8e3772 button');\n",
              "      quickchartButtonEl.style.display =\n",
              "        google.colab.kernel.accessAllowed ? 'block' : 'none';\n",
              "    })();\n",
              "  </script>\n",
              "</div>\n",
              "\n",
              "  <div id=\"id_749bc514-f8e1-47ff-8996-ef11e4b72b70\">\n",
              "    <style>\n",
              "      .colab-df-generate {\n",
              "        background-color: #E8F0FE;\n",
              "        border: none;\n",
              "        border-radius: 50%;\n",
              "        cursor: pointer;\n",
              "        display: none;\n",
              "        fill: #1967D2;\n",
              "        height: 32px;\n",
              "        padding: 0 0 0 0;\n",
              "        width: 32px;\n",
              "      }\n",
              "\n",
              "      .colab-df-generate:hover {\n",
              "        background-color: #E2EBFA;\n",
              "        box-shadow: 0px 1px 2px rgba(60, 64, 67, 0.3), 0px 1px 3px 1px rgba(60, 64, 67, 0.15);\n",
              "        fill: #174EA6;\n",
              "      }\n",
              "\n",
              "      [theme=dark] .colab-df-generate {\n",
              "        background-color: #3B4455;\n",
              "        fill: #D2E3FC;\n",
              "      }\n",
              "\n",
              "      [theme=dark] .colab-df-generate:hover {\n",
              "        background-color: #434B5C;\n",
              "        box-shadow: 0px 1px 3px 1px rgba(0, 0, 0, 0.15);\n",
              "        filter: drop-shadow(0px 1px 2px rgba(0, 0, 0, 0.3));\n",
              "        fill: #FFFFFF;\n",
              "      }\n",
              "    </style>\n",
              "    <button class=\"colab-df-generate\" onclick=\"generateWithVariable('howell')\"\n",
              "            title=\"Generate code using this dataframe.\"\n",
              "            style=\"display:none;\">\n",
              "\n",
              "  <svg xmlns=\"http://www.w3.org/2000/svg\" height=\"24px\"viewBox=\"0 0 24 24\"\n",
              "       width=\"24px\">\n",
              "    <path d=\"M7,19H8.4L18.45,9,17,7.55,7,17.6ZM5,21V16.75L18.45,3.32a2,2,0,0,1,2.83,0l1.4,1.43a1.91,1.91,0,0,1,.58,1.4,1.91,1.91,0,0,1-.58,1.4L9.25,21ZM18.45,9,17,7.55Zm-12,3A5.31,5.31,0,0,0,4.9,8.1,5.31,5.31,0,0,0,1,6.5,5.31,5.31,0,0,0,4.9,4.9,5.31,5.31,0,0,0,6.5,1,5.31,5.31,0,0,0,8.1,4.9,5.31,5.31,0,0,0,12,6.5,5.46,5.46,0,0,0,6.5,12Z\"/>\n",
              "  </svg>\n",
              "    </button>\n",
              "    <script>\n",
              "      (() => {\n",
              "      const buttonEl =\n",
              "        document.querySelector('#id_749bc514-f8e1-47ff-8996-ef11e4b72b70 button.colab-df-generate');\n",
              "      buttonEl.style.display =\n",
              "        google.colab.kernel.accessAllowed ? 'block' : 'none';\n",
              "\n",
              "      buttonEl.onclick = () => {\n",
              "        google.colab.notebook.generateWithVariable('howell');\n",
              "      }\n",
              "      })();\n",
              "    </script>\n",
              "  </div>\n",
              "\n",
              "    </div>\n",
              "  </div>\n"
            ],
            "application/vnd.google.colaboratory.intrinsic+json": {
              "type": "dataframe",
              "variable_name": "howell",
              "summary": "{\n  \"name\": \"howell\",\n  \"rows\": 544,\n  \"fields\": [\n    {\n      \"column\": \"height\",\n      \"properties\": {\n        \"dtype\": \"number\",\n        \"std\": 27.602447640564698,\n        \"min\": 53.975,\n        \"max\": 179.07,\n        \"num_unique_values\": 182,\n        \"samples\": [\n          105.41,\n          127.0,\n          157.988\n        ],\n        \"semantic_type\": \"\",\n        \"description\": \"\"\n      }\n    },\n    {\n      \"column\": \"weight\",\n      \"properties\": {\n        \"dtype\": \"number\",\n        \"std\": 14.71917817927999,\n        \"min\": 4.252425,\n        \"max\": 62.992589,\n        \"num_unique_values\": 457,\n        \"samples\": [\n          13.1825175,\n          47.8823055,\n          18.14368\n        ],\n        \"semantic_type\": \"\",\n        \"description\": \"\"\n      }\n    },\n    {\n      \"column\": \"age\",\n      \"properties\": {\n        \"dtype\": \"number\",\n        \"std\": 20.746888222142026,\n        \"min\": 0.0,\n        \"max\": 88.0,\n        \"num_unique_values\": 99,\n        \"samples\": [\n          62.0,\n          37.0,\n          21.5\n        ],\n        \"semantic_type\": \"\",\n        \"description\": \"\"\n      }\n    },\n    {\n      \"column\": \"male\",\n      \"properties\": {\n        \"dtype\": \"number\",\n        \"std\": 0,\n        \"min\": 0,\n        \"max\": 1,\n        \"num_unique_values\": 2,\n        \"samples\": [\n          0,\n          1\n        ],\n        \"semantic_type\": \"\",\n        \"description\": \"\"\n      }\n    }\n  ]\n}"
            }
          },
          "metadata": {},
          "execution_count": 26
        }
      ]
    },
    {
      "cell_type": "markdown",
      "source": [
        "**Task4**:\n",
        "\n",
        "Make a scatter plot of height versus weight for the howell data set."
      ],
      "metadata": {
        "id": "n5wfHiR_AELA"
      }
    },
    {
      "cell_type": "code",
      "source": [
        "howell.plot(x=\"weight\",y=\"height\",figsize=(12,3),kind=\"scatter\")"
      ],
      "metadata": {
        "colab": {
          "base_uri": "https://localhost:8080/",
          "height": 328
        },
        "id": "ZDh_cwCl-yDe",
        "outputId": "2f52ab28-62d9-4f7a-a2f1-51b405cc92c9"
      },
      "execution_count": 27,
      "outputs": [
        {
          "output_type": "execute_result",
          "data": {
            "text/plain": [
              "<Axes: xlabel='weight', ylabel='height'>"
            ]
          },
          "metadata": {},
          "execution_count": 27
        },
        {
          "output_type": "display_data",
          "data": {
            "text/plain": [
              "<Figure size 1200x300 with 1 Axes>"
            ],
            "image/png": "[encoded data removed]"
          },
          "metadata": {}
        }
      ]
    },
    {
      "cell_type": "markdown",
      "source": [
        "**Task5**:\n",
        "\n",
        "Create and run a stright line linear regression model on the howell data set with height predicting weight. Visualize your model and its posterior."
      ],
      "metadata": {
        "id": "CzAWd8VRAY7X"
      }
    },
    {
      "cell_type": "markdown",
      "source": [
        "**Task6**:\n",
        "\n",
        "Run a posterior predictive check for model_howell, plot the posterior predictive distribution, and comment on the fit of the model you made in Task5."
      ],
      "metadata": {
        "id": "QCkwI3ZIG33g"
      }
    },
    {
      "cell_type": "markdown",
      "source": [
        "**Task7**:\n",
        "\n",
        "Create and visualize the posterior of a generalized linear model that improves the on the fit of the model you made in Task5."
      ],
      "metadata": {
        "id": "XoJfe4CJJc1R"
      }
    },
    {
      "cell_type": "markdown",
      "source": [
        "**Task8**:\n",
        "\n",
        "Run a posterior predictive check, and visualize the posterior predictive distribution, for the model you made in Task7.\n",
        "\n",
        "Comment on the fit."
      ],
      "metadata": {
        "id": "IuNulGsbUbCt"
      }
    }
  ]
}