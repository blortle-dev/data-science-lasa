{
 "cells": [
  {
   "metadata": {},
   "cell_type": "markdown",
   "source": [
    "# Project Title\n",
    "\n",
    "*Unit 7 Project*"
   ],
   "id": "53f9bbfbd4037a0b"
  },
  {
   "metadata": {
    "ExecuteTime": {
     "end_time": "2025-02-25T19:09:50.977863Z",
     "start_time": "2025-02-25T19:09:46.602224Z"
    }
   },
   "cell_type": "code",
   "source": [
    "import numpy as np\n",
    "import pandas as pd\n",
    "import arviz as az\n",
    "import matplotlib.pyplot as plt\n",
    "import xarray as xr\n",
    "import bambi as bmb"
   ],
   "id": "796366430a8760d4",
   "outputs": [],
   "execution_count": 1
  },
  {
   "metadata": {
    "ExecuteTime": {
     "end_time": "2025-02-25T19:10:01.193502Z",
     "start_time": "2025-02-25T19:09:50.988232Z"
    }
   },
   "cell_type": "code",
   "source": [
    "url = \"https://raw.githubusercontent.com/blortle-dev/data-science-lasa/refs/heads/main/resources/lap_times.csv\"\n",
    "data = pd.read_csv(url)"
   ],
   "id": "918cf3bacbb8e2ee",
   "outputs": [],
   "execution_count": 2
  },
  {
   "metadata": {},
   "cell_type": "markdown",
   "source": [
    "## Testing\n",
    "\n",
    "Just a spot for me to test different models and ideas."
   ],
   "id": "f0501f5a28a14ef9"
  },
  {
   "metadata": {
    "ExecuteTime": {
     "end_time": "2025-02-20T20:08:54.067032Z",
     "start_time": "2025-02-20T20:08:54.060987Z"
    }
   },
   "cell_type": "code",
   "source": [
    "# TEMPLATE MODEL CODE\n",
    "# model = bmb.Model(\"Y_AXIS ~ poly(X_AXIS, degree=N_DEGREE)\", DATA, family=\"negativebinomial\")\n",
    "# idata = model.fit()\n",
    "# bmb.interpret.plot_predictions(model, idata, fig_kwargs={\"figsize\":(11, 4)})\n",
    "# plt.scatter(x=\"X_AXIS\", y=\"Y_AXIS\", data=data)"
   ],
   "id": "9468b3b08e6dd3e3",
   "outputs": [],
   "execution_count": 3
  },
  {
   "metadata": {
    "ExecuteTime": {
     "end_time": "2025-02-25T19:11:45.366335Z",
     "start_time": "2025-02-25T19:11:37.682637Z"
    }
   },
   "cell_type": "code",
   "source": [
    "model = bmb.Model(\"milliseconds ~ poly(position, degree=2)\", data, family=\"negativebinomial\")\n",
    "idata = model.fit()"
   ],
   "id": "8fc39a5c7b8d3b75",
   "outputs": [
    {
     "name": "stderr",
     "output_type": "stream",
     "text": [
      "Initializing NUTS using jitter+adapt_diag...\n",
      "Multiprocess sampling (4 chains in 4 jobs)\n",
      "NUTS: [alpha, Intercept, poly(position, degree=2)]\n"
     ]
    },
    {
     "data": {
      "text/plain": [
       "Output()"
      ],
      "application/vnd.jupyter.widget-view+json": {
       "version_major": 2,
       "version_minor": 0,
       "model_id": "f29dbc8c6e2c4f2f878d53377a6afbde"
      }
     },
     "metadata": {},
     "output_type": "display_data"
    },
    {
     "data": {
      "text/plain": [],
      "text/html": [
       "<pre style=\"white-space:pre;overflow-x:auto;line-height:normal;font-family:Menlo,'DejaVu Sans Mono',consolas,'Courier New',monospace\"></pre>\n"
      ]
     },
     "metadata": {},
     "output_type": "display_data"
    },
    {
     "data": {
      "text/plain": [
       "\n"
      ],
      "text/html": [
       "<pre style=\"white-space:pre;overflow-x:auto;line-height:normal;font-family:Menlo,'DejaVu Sans Mono',consolas,'Courier New',monospace\">\n",
       "</pre>\n"
      ]
     },
     "metadata": {},
     "output_type": "display_data"
    },
    {
     "ename": "EOFError",
     "evalue": "",
     "output_type": "error",
     "traceback": [
      "\u001B[0;31m---------------------------------------------------------------------------\u001B[0m",
      "\u001B[0;31mEOFError\u001B[0m                                  Traceback (most recent call last)",
      "Cell \u001B[0;32mIn[6], line 2\u001B[0m\n\u001B[1;32m      1\u001B[0m model \u001B[38;5;241m=\u001B[39m bmb\u001B[38;5;241m.\u001B[39mModel(\u001B[38;5;124m\"\u001B[39m\u001B[38;5;124mmilliseconds ~ poly(position, degree=2)\u001B[39m\u001B[38;5;124m\"\u001B[39m, data, family\u001B[38;5;241m=\u001B[39m\u001B[38;5;124m\"\u001B[39m\u001B[38;5;124mnegativebinomial\u001B[39m\u001B[38;5;124m\"\u001B[39m)\n\u001B[0;32m----> 2\u001B[0m idata \u001B[38;5;241m=\u001B[39m \u001B[43mmodel\u001B[49m\u001B[38;5;241;43m.\u001B[39;49m\u001B[43mfit\u001B[49m\u001B[43m(\u001B[49m\u001B[43m)\u001B[49m\n",
      "File \u001B[0;32m/Library/Frameworks/Python.framework/Versions/3.12/lib/python3.12/site-packages/bambi/models.py:348\u001B[0m, in \u001B[0;36mModel.fit\u001B[0;34m(self, draws, tune, discard_tuned_samples, omit_offsets, include_mean, include_response_params, inference_method, init, n_init, chains, cores, random_seed, **kwargs)\u001B[0m\n\u001B[1;32m    341\u001B[0m     warnings\u001B[38;5;241m.\u001B[39mwarn(\n\u001B[1;32m    342\u001B[0m         \u001B[38;5;124m\"\u001B[39m\u001B[38;5;124m'\u001B[39m\u001B[38;5;124minclude_mean\u001B[39m\u001B[38;5;124m'\u001B[39m\u001B[38;5;124m has been replaced by \u001B[39m\u001B[38;5;124m'\u001B[39m\u001B[38;5;124minclude_response_params\u001B[39m\u001B[38;5;124m'\u001B[39m\u001B[38;5;124m and \u001B[39m\u001B[38;5;124m\"\u001B[39m\n\u001B[1;32m    343\u001B[0m         \u001B[38;5;124m\"\u001B[39m\u001B[38;5;124mis not going to work in the future\u001B[39m\u001B[38;5;124m\"\u001B[39m,\n\u001B[1;32m    344\u001B[0m         \u001B[38;5;167;01mFutureWarning\u001B[39;00m,\n\u001B[1;32m    345\u001B[0m     )\n\u001B[1;32m    346\u001B[0m     include_response_params \u001B[38;5;241m=\u001B[39m include_mean\n\u001B[0;32m--> 348\u001B[0m \u001B[38;5;28;01mreturn\u001B[39;00m \u001B[38;5;28;43mself\u001B[39;49m\u001B[38;5;241;43m.\u001B[39;49m\u001B[43mbackend\u001B[49m\u001B[38;5;241;43m.\u001B[39;49m\u001B[43mrun\u001B[49m\u001B[43m(\u001B[49m\n\u001B[1;32m    349\u001B[0m \u001B[43m    \u001B[49m\u001B[43mdraws\u001B[49m\u001B[38;5;241;43m=\u001B[39;49m\u001B[43mdraws\u001B[49m\u001B[43m,\u001B[49m\n\u001B[1;32m    350\u001B[0m \u001B[43m    \u001B[49m\u001B[43mtune\u001B[49m\u001B[38;5;241;43m=\u001B[39;49m\u001B[43mtune\u001B[49m\u001B[43m,\u001B[49m\n\u001B[1;32m    351\u001B[0m \u001B[43m    \u001B[49m\u001B[43mdiscard_tuned_samples\u001B[49m\u001B[38;5;241;43m=\u001B[39;49m\u001B[43mdiscard_tuned_samples\u001B[49m\u001B[43m,\u001B[49m\n\u001B[1;32m    352\u001B[0m \u001B[43m    \u001B[49m\u001B[43momit_offsets\u001B[49m\u001B[38;5;241;43m=\u001B[39;49m\u001B[43momit_offsets\u001B[49m\u001B[43m,\u001B[49m\n\u001B[1;32m    353\u001B[0m \u001B[43m    \u001B[49m\u001B[43minclude_response_params\u001B[49m\u001B[38;5;241;43m=\u001B[39;49m\u001B[43minclude_response_params\u001B[49m\u001B[43m,\u001B[49m\n\u001B[1;32m    354\u001B[0m \u001B[43m    \u001B[49m\u001B[43minference_method\u001B[49m\u001B[38;5;241;43m=\u001B[39;49m\u001B[43minference_method\u001B[49m\u001B[43m,\u001B[49m\n\u001B[1;32m    355\u001B[0m \u001B[43m    \u001B[49m\u001B[43minit\u001B[49m\u001B[38;5;241;43m=\u001B[39;49m\u001B[43minit\u001B[49m\u001B[43m,\u001B[49m\n\u001B[1;32m    356\u001B[0m \u001B[43m    \u001B[49m\u001B[43mn_init\u001B[49m\u001B[38;5;241;43m=\u001B[39;49m\u001B[43mn_init\u001B[49m\u001B[43m,\u001B[49m\n\u001B[1;32m    357\u001B[0m \u001B[43m    \u001B[49m\u001B[43mchains\u001B[49m\u001B[38;5;241;43m=\u001B[39;49m\u001B[43mchains\u001B[49m\u001B[43m,\u001B[49m\n\u001B[1;32m    358\u001B[0m \u001B[43m    \u001B[49m\u001B[43mcores\u001B[49m\u001B[38;5;241;43m=\u001B[39;49m\u001B[43mcores\u001B[49m\u001B[43m,\u001B[49m\n\u001B[1;32m    359\u001B[0m \u001B[43m    \u001B[49m\u001B[43mrandom_seed\u001B[49m\u001B[38;5;241;43m=\u001B[39;49m\u001B[43mrandom_seed\u001B[49m\u001B[43m,\u001B[49m\n\u001B[1;32m    360\u001B[0m \u001B[43m    \u001B[49m\u001B[38;5;241;43m*\u001B[39;49m\u001B[38;5;241;43m*\u001B[39;49m\u001B[43mkwargs\u001B[49m\u001B[43m,\u001B[49m\n\u001B[1;32m    361\u001B[0m \u001B[43m\u001B[49m\u001B[43m)\u001B[49m\n",
      "File \u001B[0;32m/Library/Frameworks/Python.framework/Versions/3.12/lib/python3.12/site-packages/bambi/backend/pymc.py:136\u001B[0m, in \u001B[0;36mPyMCModel.run\u001B[0;34m(self, draws, tune, discard_tuned_samples, omit_offsets, include_response_params, inference_method, init, n_init, chains, cores, random_seed, **kwargs)\u001B[0m\n\u001B[1;32m    134\u001B[0m \u001B[38;5;66;03m# NOTE: Methods return different types of objects (idata, approximation, and dictionary)\u001B[39;00m\n\u001B[1;32m    135\u001B[0m \u001B[38;5;28;01mif\u001B[39;00m inference_method \u001B[38;5;129;01min\u001B[39;00m (\u001B[38;5;28mself\u001B[39m\u001B[38;5;241m.\u001B[39mpymc_methods[\u001B[38;5;124m\"\u001B[39m\u001B[38;5;124mmcmc\u001B[39m\u001B[38;5;124m\"\u001B[39m] \u001B[38;5;241m+\u001B[39m \u001B[38;5;28mself\u001B[39m\u001B[38;5;241m.\u001B[39mbayeux_methods[\u001B[38;5;124m\"\u001B[39m\u001B[38;5;124mmcmc\u001B[39m\u001B[38;5;124m\"\u001B[39m]):\n\u001B[0;32m--> 136\u001B[0m     result \u001B[38;5;241m=\u001B[39m \u001B[38;5;28;43mself\u001B[39;49m\u001B[38;5;241;43m.\u001B[39;49m\u001B[43m_run_mcmc\u001B[49m\u001B[43m(\u001B[49m\n\u001B[1;32m    137\u001B[0m \u001B[43m        \u001B[49m\u001B[43mdraws\u001B[49m\u001B[43m,\u001B[49m\n\u001B[1;32m    138\u001B[0m \u001B[43m        \u001B[49m\u001B[43mtune\u001B[49m\u001B[43m,\u001B[49m\n\u001B[1;32m    139\u001B[0m \u001B[43m        \u001B[49m\u001B[43mdiscard_tuned_samples\u001B[49m\u001B[43m,\u001B[49m\n\u001B[1;32m    140\u001B[0m \u001B[43m        \u001B[49m\u001B[43momit_offsets\u001B[49m\u001B[43m,\u001B[49m\n\u001B[1;32m    141\u001B[0m \u001B[43m        \u001B[49m\u001B[43minclude_response_params\u001B[49m\u001B[43m,\u001B[49m\n\u001B[1;32m    142\u001B[0m \u001B[43m        \u001B[49m\u001B[43minit\u001B[49m\u001B[43m,\u001B[49m\n\u001B[1;32m    143\u001B[0m \u001B[43m        \u001B[49m\u001B[43mn_init\u001B[49m\u001B[43m,\u001B[49m\n\u001B[1;32m    144\u001B[0m \u001B[43m        \u001B[49m\u001B[43mchains\u001B[49m\u001B[43m,\u001B[49m\n\u001B[1;32m    145\u001B[0m \u001B[43m        \u001B[49m\u001B[43mcores\u001B[49m\u001B[43m,\u001B[49m\n\u001B[1;32m    146\u001B[0m \u001B[43m        \u001B[49m\u001B[43mrandom_seed\u001B[49m\u001B[43m,\u001B[49m\n\u001B[1;32m    147\u001B[0m \u001B[43m        \u001B[49m\u001B[43minference_method\u001B[49m\u001B[43m,\u001B[49m\n\u001B[1;32m    148\u001B[0m \u001B[43m        \u001B[49m\u001B[38;5;241;43m*\u001B[39;49m\u001B[38;5;241;43m*\u001B[39;49m\u001B[43mkwargs\u001B[49m\u001B[43m,\u001B[49m\n\u001B[1;32m    149\u001B[0m \u001B[43m    \u001B[49m\u001B[43m)\u001B[49m\n\u001B[1;32m    150\u001B[0m \u001B[38;5;28;01melif\u001B[39;00m inference_method \u001B[38;5;129;01min\u001B[39;00m \u001B[38;5;28mself\u001B[39m\u001B[38;5;241m.\u001B[39mpymc_methods[\u001B[38;5;124m\"\u001B[39m\u001B[38;5;124mvi\u001B[39m\u001B[38;5;124m\"\u001B[39m]:\n\u001B[1;32m    151\u001B[0m     result \u001B[38;5;241m=\u001B[39m \u001B[38;5;28mself\u001B[39m\u001B[38;5;241m.\u001B[39m_run_vi(\u001B[38;5;241m*\u001B[39m\u001B[38;5;241m*\u001B[39mkwargs)\n",
      "File \u001B[0;32m/Library/Frameworks/Python.framework/Versions/3.12/lib/python3.12/site-packages/bambi/backend/pymc.py:214\u001B[0m, in \u001B[0;36mPyMCModel._run_mcmc\u001B[0;34m(self, draws, tune, discard_tuned_samples, omit_offsets, include_response_params, init, n_init, chains, cores, random_seed, sampler_backend, **kwargs)\u001B[0m\n\u001B[1;32m    212\u001B[0m \u001B[38;5;28;01mwith\u001B[39;00m \u001B[38;5;28mself\u001B[39m\u001B[38;5;241m.\u001B[39mmodel:\n\u001B[1;32m    213\u001B[0m     \u001B[38;5;28;01mtry\u001B[39;00m:\n\u001B[0;32m--> 214\u001B[0m         idata \u001B[38;5;241m=\u001B[39m \u001B[43mpm\u001B[49m\u001B[38;5;241;43m.\u001B[39;49m\u001B[43msample\u001B[49m\u001B[43m(\u001B[49m\n\u001B[1;32m    215\u001B[0m \u001B[43m            \u001B[49m\u001B[43mdraws\u001B[49m\u001B[38;5;241;43m=\u001B[39;49m\u001B[43mdraws\u001B[49m\u001B[43m,\u001B[49m\n\u001B[1;32m    216\u001B[0m \u001B[43m            \u001B[49m\u001B[43mtune\u001B[49m\u001B[38;5;241;43m=\u001B[39;49m\u001B[43mtune\u001B[49m\u001B[43m,\u001B[49m\n\u001B[1;32m    217\u001B[0m \u001B[43m            \u001B[49m\u001B[43mdiscard_tuned_samples\u001B[49m\u001B[38;5;241;43m=\u001B[39;49m\u001B[43mdiscard_tuned_samples\u001B[49m\u001B[43m,\u001B[49m\n\u001B[1;32m    218\u001B[0m \u001B[43m            \u001B[49m\u001B[43minit\u001B[49m\u001B[38;5;241;43m=\u001B[39;49m\u001B[43minit\u001B[49m\u001B[43m,\u001B[49m\n\u001B[1;32m    219\u001B[0m \u001B[43m            \u001B[49m\u001B[43mn_init\u001B[49m\u001B[38;5;241;43m=\u001B[39;49m\u001B[43mn_init\u001B[49m\u001B[43m,\u001B[49m\n\u001B[1;32m    220\u001B[0m \u001B[43m            \u001B[49m\u001B[43mchains\u001B[49m\u001B[38;5;241;43m=\u001B[39;49m\u001B[43mchains\u001B[49m\u001B[43m,\u001B[49m\n\u001B[1;32m    221\u001B[0m \u001B[43m            \u001B[49m\u001B[43mcores\u001B[49m\u001B[38;5;241;43m=\u001B[39;49m\u001B[43mcores\u001B[49m\u001B[43m,\u001B[49m\n\u001B[1;32m    222\u001B[0m \u001B[43m            \u001B[49m\u001B[43mrandom_seed\u001B[49m\u001B[38;5;241;43m=\u001B[39;49m\u001B[43mrandom_seed\u001B[49m\u001B[43m,\u001B[49m\n\u001B[1;32m    223\u001B[0m \u001B[43m            \u001B[49m\u001B[43mvar_names\u001B[49m\u001B[38;5;241;43m=\u001B[39;49m\u001B[43mvars_to_sample\u001B[49m\u001B[43m,\u001B[49m\n\u001B[1;32m    224\u001B[0m \u001B[43m            \u001B[49m\u001B[38;5;241;43m*\u001B[39;49m\u001B[38;5;241;43m*\u001B[39;49m\u001B[43mkwargs\u001B[49m\u001B[43m,\u001B[49m\n\u001B[1;32m    225\u001B[0m \u001B[43m        \u001B[49m\u001B[43m)\u001B[49m\n\u001B[1;32m    226\u001B[0m     \u001B[38;5;28;01mexcept\u001B[39;00m (\u001B[38;5;167;01mRuntimeError\u001B[39;00m, \u001B[38;5;167;01mValueError\u001B[39;00m):\n\u001B[1;32m    227\u001B[0m         \u001B[38;5;28;01mif\u001B[39;00m (\n\u001B[1;32m    228\u001B[0m             \u001B[38;5;124m\"\u001B[39m\u001B[38;5;124mValueError: Mass matrix contains\u001B[39m\u001B[38;5;124m\"\u001B[39m \u001B[38;5;129;01min\u001B[39;00m traceback\u001B[38;5;241m.\u001B[39mformat_exc()\n\u001B[1;32m    229\u001B[0m             \u001B[38;5;129;01mand\u001B[39;00m init \u001B[38;5;241m==\u001B[39m \u001B[38;5;124m\"\u001B[39m\u001B[38;5;124mauto\u001B[39m\u001B[38;5;124m\"\u001B[39m\n\u001B[1;32m    230\u001B[0m         ):\n",
      "File \u001B[0;32m/Library/Frameworks/Python.framework/Versions/3.12/lib/python3.12/site-packages/pymc/sampling/mcmc.py:906\u001B[0m, in \u001B[0;36msample\u001B[0;34m(draws, tune, chains, cores, random_seed, progressbar, progressbar_theme, step, var_names, nuts_sampler, initvals, init, jitter_max_retries, n_init, trace, discard_tuned_samples, compute_convergence_checks, keep_warning_stat, return_inferencedata, idata_kwargs, nuts_sampler_kwargs, callback, mp_ctx, blas_cores, model, compile_kwargs, **kwargs)\u001B[0m\n\u001B[1;32m    904\u001B[0m _print_step_hierarchy(step)\n\u001B[1;32m    905\u001B[0m \u001B[38;5;28;01mtry\u001B[39;00m:\n\u001B[0;32m--> 906\u001B[0m     \u001B[43m_mp_sample\u001B[49m\u001B[43m(\u001B[49m\u001B[38;5;241;43m*\u001B[39;49m\u001B[38;5;241;43m*\u001B[39;49m\u001B[43msample_args\u001B[49m\u001B[43m,\u001B[49m\u001B[43m \u001B[49m\u001B[38;5;241;43m*\u001B[39;49m\u001B[38;5;241;43m*\u001B[39;49m\u001B[43mparallel_args\u001B[49m\u001B[43m)\u001B[49m\n\u001B[1;32m    907\u001B[0m \u001B[38;5;28;01mexcept\u001B[39;00m pickle\u001B[38;5;241m.\u001B[39mPickleError:\n\u001B[1;32m    908\u001B[0m     _log\u001B[38;5;241m.\u001B[39mwarning(\u001B[38;5;124m\"\u001B[39m\u001B[38;5;124mCould not pickle model, sampling singlethreaded.\u001B[39m\u001B[38;5;124m\"\u001B[39m)\n",
      "File \u001B[0;32m/Library/Frameworks/Python.framework/Versions/3.12/lib/python3.12/site-packages/pymc/sampling/mcmc.py:1318\u001B[0m, in \u001B[0;36m_mp_sample\u001B[0;34m(draws, tune, step, chains, cores, rngs, start, progressbar, progressbar_theme, traces, model, callback, blas_cores, mp_ctx, **kwargs)\u001B[0m\n\u001B[1;32m   1316\u001B[0m \u001B[38;5;28;01mtry\u001B[39;00m:\n\u001B[1;32m   1317\u001B[0m     \u001B[38;5;28;01mwith\u001B[39;00m sampler:\n\u001B[0;32m-> 1318\u001B[0m \u001B[43m        \u001B[49m\u001B[38;5;28;43;01mfor\u001B[39;49;00m\u001B[43m \u001B[49m\u001B[43mdraw\u001B[49m\u001B[43m \u001B[49m\u001B[38;5;129;43;01min\u001B[39;49;00m\u001B[43m \u001B[49m\u001B[43msampler\u001B[49m\u001B[43m:\u001B[49m\n\u001B[1;32m   1319\u001B[0m \u001B[43m            \u001B[49m\u001B[43mstrace\u001B[49m\u001B[43m \u001B[49m\u001B[38;5;241;43m=\u001B[39;49m\u001B[43m \u001B[49m\u001B[43mtraces\u001B[49m\u001B[43m[\u001B[49m\u001B[43mdraw\u001B[49m\u001B[38;5;241;43m.\u001B[39;49m\u001B[43mchain\u001B[49m\u001B[43m]\u001B[49m\n\u001B[1;32m   1320\u001B[0m \u001B[43m            \u001B[49m\u001B[43mstrace\u001B[49m\u001B[38;5;241;43m.\u001B[39;49m\u001B[43mrecord\u001B[49m\u001B[43m(\u001B[49m\u001B[43mdraw\u001B[49m\u001B[38;5;241;43m.\u001B[39;49m\u001B[43mpoint\u001B[49m\u001B[43m,\u001B[49m\u001B[43m \u001B[49m\u001B[43mdraw\u001B[49m\u001B[38;5;241;43m.\u001B[39;49m\u001B[43mstats\u001B[49m\u001B[43m)\u001B[49m\n",
      "File \u001B[0;32m/Library/Frameworks/Python.framework/Versions/3.12/lib/python3.12/site-packages/pymc/sampling/parallel.py:478\u001B[0m, in \u001B[0;36mParallelSampler.__iter__\u001B[0;34m(self)\u001B[0m\n\u001B[1;32m    471\u001B[0m task \u001B[38;5;241m=\u001B[39m progress\u001B[38;5;241m.\u001B[39madd_task(\n\u001B[1;32m    472\u001B[0m     \u001B[38;5;28mself\u001B[39m\u001B[38;5;241m.\u001B[39m_desc\u001B[38;5;241m.\u001B[39mformat(\u001B[38;5;28mself\u001B[39m),\n\u001B[1;32m    473\u001B[0m     completed\u001B[38;5;241m=\u001B[39m\u001B[38;5;28mself\u001B[39m\u001B[38;5;241m.\u001B[39m_completed_draws,\n\u001B[1;32m    474\u001B[0m     total\u001B[38;5;241m=\u001B[39m\u001B[38;5;28mself\u001B[39m\u001B[38;5;241m.\u001B[39m_total_draws,\n\u001B[1;32m    475\u001B[0m )\n\u001B[1;32m    477\u001B[0m \u001B[38;5;28;01mwhile\u001B[39;00m \u001B[38;5;28mself\u001B[39m\u001B[38;5;241m.\u001B[39m_active:\n\u001B[0;32m--> 478\u001B[0m     draw \u001B[38;5;241m=\u001B[39m \u001B[43mProcessAdapter\u001B[49m\u001B[38;5;241;43m.\u001B[39;49m\u001B[43mrecv_draw\u001B[49m\u001B[43m(\u001B[49m\u001B[38;5;28;43mself\u001B[39;49m\u001B[38;5;241;43m.\u001B[39;49m\u001B[43m_active\u001B[49m\u001B[43m)\u001B[49m\n\u001B[1;32m    479\u001B[0m     proc, is_last, draw, tuning, stats \u001B[38;5;241m=\u001B[39m draw\n\u001B[1;32m    480\u001B[0m     \u001B[38;5;28mself\u001B[39m\u001B[38;5;241m.\u001B[39m_completed_draws \u001B[38;5;241m+\u001B[39m\u001B[38;5;241m=\u001B[39m \u001B[38;5;241m1\u001B[39m\n",
      "File \u001B[0;32m/Library/Frameworks/Python.framework/Versions/3.12/lib/python3.12/site-packages/pymc/sampling/parallel.py:334\u001B[0m, in \u001B[0;36mProcessAdapter.recv_draw\u001B[0;34m(processes, timeout)\u001B[0m\n\u001B[1;32m    332\u001B[0m idxs \u001B[38;5;241m=\u001B[39m {\u001B[38;5;28mid\u001B[39m(proc\u001B[38;5;241m.\u001B[39m_msg_pipe): proc \u001B[38;5;28;01mfor\u001B[39;00m proc \u001B[38;5;129;01min\u001B[39;00m processes}\n\u001B[1;32m    333\u001B[0m proc \u001B[38;5;241m=\u001B[39m idxs[\u001B[38;5;28mid\u001B[39m(ready[\u001B[38;5;241m0\u001B[39m])]\n\u001B[0;32m--> 334\u001B[0m msg \u001B[38;5;241m=\u001B[39m \u001B[43mready\u001B[49m\u001B[43m[\u001B[49m\u001B[38;5;241;43m0\u001B[39;49m\u001B[43m]\u001B[49m\u001B[38;5;241;43m.\u001B[39;49m\u001B[43mrecv\u001B[49m\u001B[43m(\u001B[49m\u001B[43m)\u001B[49m\n\u001B[1;32m    336\u001B[0m \u001B[38;5;28;01mif\u001B[39;00m msg[\u001B[38;5;241m0\u001B[39m] \u001B[38;5;241m==\u001B[39m \u001B[38;5;124m\"\u001B[39m\u001B[38;5;124merror\u001B[39m\u001B[38;5;124m\"\u001B[39m:\n\u001B[1;32m    337\u001B[0m     old_error \u001B[38;5;241m=\u001B[39m msg[\u001B[38;5;241m1\u001B[39m]\n",
      "File \u001B[0;32m/Library/Frameworks/Python.framework/Versions/3.12/lib/python3.12/multiprocessing/connection.py:250\u001B[0m, in \u001B[0;36m_ConnectionBase.recv\u001B[0;34m(self)\u001B[0m\n\u001B[1;32m    248\u001B[0m \u001B[38;5;28mself\u001B[39m\u001B[38;5;241m.\u001B[39m_check_closed()\n\u001B[1;32m    249\u001B[0m \u001B[38;5;28mself\u001B[39m\u001B[38;5;241m.\u001B[39m_check_readable()\n\u001B[0;32m--> 250\u001B[0m buf \u001B[38;5;241m=\u001B[39m \u001B[38;5;28;43mself\u001B[39;49m\u001B[38;5;241;43m.\u001B[39;49m\u001B[43m_recv_bytes\u001B[49m\u001B[43m(\u001B[49m\u001B[43m)\u001B[49m\n\u001B[1;32m    251\u001B[0m \u001B[38;5;28;01mreturn\u001B[39;00m _ForkingPickler\u001B[38;5;241m.\u001B[39mloads(buf\u001B[38;5;241m.\u001B[39mgetbuffer())\n",
      "File \u001B[0;32m/Library/Frameworks/Python.framework/Versions/3.12/lib/python3.12/multiprocessing/connection.py:430\u001B[0m, in \u001B[0;36mConnection._recv_bytes\u001B[0;34m(self, maxsize)\u001B[0m\n\u001B[1;32m    429\u001B[0m \u001B[38;5;28;01mdef\u001B[39;00m \u001B[38;5;21m_recv_bytes\u001B[39m(\u001B[38;5;28mself\u001B[39m, maxsize\u001B[38;5;241m=\u001B[39m\u001B[38;5;28;01mNone\u001B[39;00m):\n\u001B[0;32m--> 430\u001B[0m     buf \u001B[38;5;241m=\u001B[39m \u001B[38;5;28;43mself\u001B[39;49m\u001B[38;5;241;43m.\u001B[39;49m\u001B[43m_recv\u001B[49m\u001B[43m(\u001B[49m\u001B[38;5;241;43m4\u001B[39;49m\u001B[43m)\u001B[49m\n\u001B[1;32m    431\u001B[0m     size, \u001B[38;5;241m=\u001B[39m struct\u001B[38;5;241m.\u001B[39munpack(\u001B[38;5;124m\"\u001B[39m\u001B[38;5;124m!i\u001B[39m\u001B[38;5;124m\"\u001B[39m, buf\u001B[38;5;241m.\u001B[39mgetvalue())\n\u001B[1;32m    432\u001B[0m     \u001B[38;5;28;01mif\u001B[39;00m size \u001B[38;5;241m==\u001B[39m \u001B[38;5;241m-\u001B[39m\u001B[38;5;241m1\u001B[39m:\n",
      "File \u001B[0;32m/Library/Frameworks/Python.framework/Versions/3.12/lib/python3.12/multiprocessing/connection.py:399\u001B[0m, in \u001B[0;36mConnection._recv\u001B[0;34m(self, size, read)\u001B[0m\n\u001B[1;32m    397\u001B[0m \u001B[38;5;28;01mif\u001B[39;00m n \u001B[38;5;241m==\u001B[39m \u001B[38;5;241m0\u001B[39m:\n\u001B[1;32m    398\u001B[0m     \u001B[38;5;28;01mif\u001B[39;00m remaining \u001B[38;5;241m==\u001B[39m size:\n\u001B[0;32m--> 399\u001B[0m         \u001B[38;5;28;01mraise\u001B[39;00m \u001B[38;5;167;01mEOFError\u001B[39;00m\n\u001B[1;32m    400\u001B[0m     \u001B[38;5;28;01melse\u001B[39;00m:\n\u001B[1;32m    401\u001B[0m         \u001B[38;5;28;01mraise\u001B[39;00m \u001B[38;5;167;01mOSError\u001B[39;00m(\u001B[38;5;124m\"\u001B[39m\u001B[38;5;124mgot end of file during message\u001B[39m\u001B[38;5;124m\"\u001B[39m)\n",
      "\u001B[0;31mEOFError\u001B[0m: "
     ]
    }
   ],
   "execution_count": 6
  }
 ],
 "metadata": {
  "kernelspec": {
   "display_name": "Python 3",
   "language": "python",
   "name": "python3"
  },
  "language_info": {
   "codemirror_mode": {
    "name": "ipython",
    "version": 2
   },
   "file_extension": ".py",
   "mimetype": "text/x-python",
   "name": "python",
   "nbconvert_exporter": "python",
   "pygments_lexer": "ipython2",
   "version": "2.7.6"
  }
 },
 "nbformat": 4,
 "nbformat_minor": 5
}
