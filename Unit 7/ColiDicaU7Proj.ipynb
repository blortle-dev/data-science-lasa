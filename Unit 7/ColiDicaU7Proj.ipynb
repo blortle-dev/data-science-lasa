{
 "cells": [
  {
   "metadata": {},
   "cell_type": "markdown",
   "source": [
    "# Project Title\n",
    "\n",
    "*Unit 7 Project*"
   ],
   "id": "53f9bbfbd4037a0b"
  },
  {
   "metadata": {
    "ExecuteTime": {
     "end_time": "2025-03-04T02:14:07.408189Z",
     "start_time": "2025-03-04T02:14:06.944189Z"
    }
   },
   "cell_type": "code",
   "source": [
    "import numpy as np\n",
    "import pandas as pd\n",
    "import arviz as az\n",
    "import matplotlib.pyplot as plt\n",
    "import xarray as xr\n",
    "import bambi as bmb\n",
    "import pymc as pm\n",
    "import preliz as pz"
   ],
   "id": "796366430a8760d4",
   "outputs": [],
   "execution_count": 9
  },
  {
   "metadata": {
    "ExecuteTime": {
     "end_time": "2025-03-04T02:08:42.462991Z",
     "start_time": "2025-03-04T02:08:41.459793Z"
    }
   },
   "cell_type": "code",
   "source": [
    "url = \"https://raw.githubusercontent.com/blortle-dev/data-science-lasa/refs/heads/main/resources/lap_times.csv\"\n",
    "data = pd.read_csv(url)"
   ],
   "id": "918cf3bacbb8e2ee",
   "outputs": [],
   "execution_count": 2
  },
  {
   "metadata": {},
   "cell_type": "markdown",
   "source": [
    "## Testing\n",
    "\n",
    "Just a spot for me to test different models and ideas."
   ],
   "id": "f0501f5a28a14ef9"
  },
  {
   "metadata": {
    "ExecuteTime": {
     "end_time": "2025-03-04T02:09:00.536643Z",
     "start_time": "2025-03-04T02:09:00.521449Z"
    }
   },
   "cell_type": "code",
   "source": [
    "data = data[data[\"raceId\"] == 1116]\n",
    "data"
   ],
   "id": "67d81bb887ded242",
   "outputs": [
    {
     "data": {
      "text/plain": [
       "        raceId  driverId  lap  position      time  milliseconds\n",
       "557007    1116       846    1         1  1:41.712        101712\n",
       "557008    1116       846    2         1  1:41.982        101982\n",
       "557009    1116       846    3         1  1:42.280        102280\n",
       "557010    1116       846    4         1  1:42.331        102331\n",
       "557011    1116       846    5         1  1:42.244        102244\n",
       "...        ...       ...  ...       ...       ...           ...\n",
       "558016    1116       844   52         5  1:42.190        102190\n",
       "558017    1116       844   53         6  1:42.656        102656\n",
       "558018    1116       844   54         6  1:41.882        101882\n",
       "558019    1116       844   55         6  1:42.519        102519\n",
       "558020    1116       844   56         6  1:42.725        102725\n",
       "\n",
       "[1014 rows x 6 columns]"
      ],
      "text/html": [
       "<div>\n",
       "<style scoped>\n",
       "    .dataframe tbody tr th:only-of-type {\n",
       "        vertical-align: middle;\n",
       "    }\n",
       "\n",
       "    .dataframe tbody tr th {\n",
       "        vertical-align: top;\n",
       "    }\n",
       "\n",
       "    .dataframe thead th {\n",
       "        text-align: right;\n",
       "    }\n",
       "</style>\n",
       "<table border=\"1\" class=\"dataframe\">\n",
       "  <thead>\n",
       "    <tr style=\"text-align: right;\">\n",
       "      <th></th>\n",
       "      <th>raceId</th>\n",
       "      <th>driverId</th>\n",
       "      <th>lap</th>\n",
       "      <th>position</th>\n",
       "      <th>time</th>\n",
       "      <th>milliseconds</th>\n",
       "    </tr>\n",
       "  </thead>\n",
       "  <tbody>\n",
       "    <tr>\n",
       "      <th>557007</th>\n",
       "      <td>1116</td>\n",
       "      <td>846</td>\n",
       "      <td>1</td>\n",
       "      <td>1</td>\n",
       "      <td>1:41.712</td>\n",
       "      <td>101712</td>\n",
       "    </tr>\n",
       "    <tr>\n",
       "      <th>557008</th>\n",
       "      <td>1116</td>\n",
       "      <td>846</td>\n",
       "      <td>2</td>\n",
       "      <td>1</td>\n",
       "      <td>1:41.982</td>\n",
       "      <td>101982</td>\n",
       "    </tr>\n",
       "    <tr>\n",
       "      <th>557009</th>\n",
       "      <td>1116</td>\n",
       "      <td>846</td>\n",
       "      <td>3</td>\n",
       "      <td>1</td>\n",
       "      <td>1:42.280</td>\n",
       "      <td>102280</td>\n",
       "    </tr>\n",
       "    <tr>\n",
       "      <th>557010</th>\n",
       "      <td>1116</td>\n",
       "      <td>846</td>\n",
       "      <td>4</td>\n",
       "      <td>1</td>\n",
       "      <td>1:42.331</td>\n",
       "      <td>102331</td>\n",
       "    </tr>\n",
       "    <tr>\n",
       "      <th>557011</th>\n",
       "      <td>1116</td>\n",
       "      <td>846</td>\n",
       "      <td>5</td>\n",
       "      <td>1</td>\n",
       "      <td>1:42.244</td>\n",
       "      <td>102244</td>\n",
       "    </tr>\n",
       "    <tr>\n",
       "      <th>...</th>\n",
       "      <td>...</td>\n",
       "      <td>...</td>\n",
       "      <td>...</td>\n",
       "      <td>...</td>\n",
       "      <td>...</td>\n",
       "      <td>...</td>\n",
       "    </tr>\n",
       "    <tr>\n",
       "      <th>558016</th>\n",
       "      <td>1116</td>\n",
       "      <td>844</td>\n",
       "      <td>52</td>\n",
       "      <td>5</td>\n",
       "      <td>1:42.190</td>\n",
       "      <td>102190</td>\n",
       "    </tr>\n",
       "    <tr>\n",
       "      <th>558017</th>\n",
       "      <td>1116</td>\n",
       "      <td>844</td>\n",
       "      <td>53</td>\n",
       "      <td>6</td>\n",
       "      <td>1:42.656</td>\n",
       "      <td>102656</td>\n",
       "    </tr>\n",
       "    <tr>\n",
       "      <th>558018</th>\n",
       "      <td>1116</td>\n",
       "      <td>844</td>\n",
       "      <td>54</td>\n",
       "      <td>6</td>\n",
       "      <td>1:41.882</td>\n",
       "      <td>101882</td>\n",
       "    </tr>\n",
       "    <tr>\n",
       "      <th>558019</th>\n",
       "      <td>1116</td>\n",
       "      <td>844</td>\n",
       "      <td>55</td>\n",
       "      <td>6</td>\n",
       "      <td>1:42.519</td>\n",
       "      <td>102519</td>\n",
       "    </tr>\n",
       "    <tr>\n",
       "      <th>558020</th>\n",
       "      <td>1116</td>\n",
       "      <td>844</td>\n",
       "      <td>56</td>\n",
       "      <td>6</td>\n",
       "      <td>1:42.725</td>\n",
       "      <td>102725</td>\n",
       "    </tr>\n",
       "  </tbody>\n",
       "</table>\n",
       "<p>1014 rows × 6 columns</p>\n",
       "</div>"
      ]
     },
     "execution_count": 3,
     "metadata": {},
     "output_type": "execute_result"
    }
   ],
   "execution_count": 3
  },
  {
   "metadata": {
    "ExecuteTime": {
     "end_time": "2025-03-04T02:09:38.601908Z",
     "start_time": "2025-03-04T02:09:38.511942Z"
    }
   },
   "cell_type": "code",
   "source": "plt.scatter(x=data[\"lap\"], y=data[\"milliseconds\"])",
   "id": "2ace28d45c5e5bec",
   "outputs": [
    {
     "data": {
      "text/plain": [
       "<matplotlib.collections.PathCollection at 0x29226161460>"
      ]
     },
     "execution_count": 4,
     "metadata": {},
     "output_type": "execute_result"
    },
    {
     "data": {
      "text/plain": [
       "<Figure size 640x480 with 1 Axes>"
      ],
      "image/png": "[encoded data removed]"
     },
     "metadata": {},
     "output_type": "display_data"
    }
   ],
   "execution_count": 4
  },
  {
   "metadata": {
    "ExecuteTime": {
     "end_time": "2025-03-04T02:11:30.591104Z",
     "start_time": "2025-03-04T02:11:30.586680Z"
    }
   },
   "cell_type": "code",
   "source": [
    "def get_ig_params(x_vals, l_b=None, u_b=None, mass=0.96, plot=False):\n",
    "    \"\"\"\n",
    "    Returns a weakly informative prior for the length-scale parameter of the GP kernel.\n",
    "    \"\"\"\n",
    "\n",
    "    differences = np.abs(np.subtract.outer(x_vals, x_vals))\n",
    "    if l_b is None:\n",
    "        l_b = np.min(differences[differences != 0]) * 2\n",
    "    if u_b is None:\n",
    "        u_b = np.max(differences) / 1.5\n",
    "\n",
    "    dist = pz.InverseGamma()\n",
    "    pz.maxent(dist, l_b, u_b, mass, plot=plot)\n",
    "\n",
    "    return dict(zip(dist.param_names, dist.params))"
   ],
   "id": "9e46ced74c839d3f",
   "outputs": [],
   "execution_count": 6
  },
  {
   "metadata": {
    "ExecuteTime": {
     "end_time": "2025-03-04T02:13:13.934697Z",
     "start_time": "2025-03-04T02:13:13.930698Z"
    }
   },
   "cell_type": "code",
   "source": [
    "ms = data[\"milliseconds\"].values\n",
    "lap = data[\"lap\"].values[:,None]"
   ],
   "id": "246d23d0cde4f9ac",
   "outputs": [],
   "execution_count": 7
  },
  {
   "metadata": {
    "jupyter": {
     "is_executing": true
    },
    "ExecuteTime": {
     "start_time": "2025-03-04T02:15:26.325970Z"
    }
   },
   "cell_type": "code",
   "source": [
    "with pm.Model() as model_hsgp:\n",
    "    #prior for our smoothness parameter\n",
    "    ℓ = pm.InverseGamma('ℓ', **get_ig_params(lap))\n",
    "\n",
    "    #this is our kernal, which decides how our points relate to one another\n",
    "    cov = pm.gp.cov.ExpQuad(1, ls=ℓ)\n",
    "    #this specfices that we're using an HSGP\n",
    "    gp = pm.gp.HSGP(m=[10], c=1.5, cov_func=cov)\n",
    "\n",
    "    #f is for function, as in the function we use to transform our data\n",
    "    f = gp.prior('f', X=lap)\n",
    "    #prior for the neg binomial\n",
    "    α = pm.HalfNormal('α', 1)\n",
    "    #likelihood\n",
    "    y = pm.NegativeBinomial(\"y\", np.exp(f), α, observed=ms)\n",
    "\n",
    "    idata_hsgp = pm.sample()"
   ],
   "id": "93d7d3063c077a95",
   "outputs": [
    {
     "name": "stderr",
     "output_type": "stream",
     "text": [
      "Initializing NUTS using jitter+adapt_diag...\n",
      "Multiprocess sampling (4 chains in 4 jobs)\n",
      "NUTS: [ℓ, f_hsgp_coeffs, α]\n"
     ]
    },
    {
     "data": {
      "text/plain": [
       "Output()"
      ],
      "application/vnd.jupyter.widget-view+json": {
       "version_major": 2,
       "version_minor": 0,
       "model_id": "d85cc7dbf8cb455eb8661ef7a31b0b7e"
      }
     },
     "metadata": {},
     "output_type": "display_data"
    }
   ],
   "execution_count": null
  },
  {
   "metadata": {},
   "cell_type": "code",
   "outputs": [],
   "execution_count": null,
   "source": [
    "#set up plot\n",
    "_, ax = plt.subplots(1, 1, figsize=(12, 4))\n",
    "#plot raw data\n",
    "ax.plot(data[\"lap\"].values, data[\"ms\"].values, \"C2.\")\n",
    "\n",
    "#grab posterior\n",
    "f = az.extract(idata_hsgp, group=\"posterior\", var_names=\"f\")\n",
    "\n",
    "\n",
    "idx = np.argsort(data[\"lap\"].values)\n",
    "#plot samples of the posterior\n",
    "ax.plot(data[\"lap\"].values[idx], np.exp(f.values[idx,:100]), alpha=0.25, color=\"C1\")\n",
    "#plot posterior mean\n",
    "ax.plot(data[\"lap\"].values[idx], np.exp(f.values[idx].mean(1)), color=\"C0\", lw=2)"
   ],
   "id": "f3d050b6567a7075"
  }
 ],
 "metadata": {
  "kernelspec": {
   "display_name": "Python 3",
   "language": "python",
   "name": "python3"
  },
  "language_info": {
   "codemirror_mode": {
    "name": "ipython",
    "version": 2
   },
   "file_extension": ".py",
   "mimetype": "text/x-python",
   "name": "python",
   "nbconvert_exporter": "python",
   "pygments_lexer": "ipython2",
   "version": "2.7.6"
  }
 },
 "nbformat": 4,
 "nbformat_minor": 5
}
