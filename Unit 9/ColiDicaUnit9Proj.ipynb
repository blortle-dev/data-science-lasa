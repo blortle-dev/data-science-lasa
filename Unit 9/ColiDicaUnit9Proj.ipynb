{
 "cells": [
  {
   "metadata": {},
   "cell_type": "markdown",
   "source": [
    "# Predicting Bitcoin Prices with NNs\n",
    "\n",
    "In this project, I'll build a neural network to predict the price of bitcoin.\n",
    "To do this, I'll use the Open, Close, High, Low, and Volume values from a dataset I found on Kaggle."
   ],
   "id": "be314bca6a2f24eb"
  },
  {
   "metadata": {
    "ExecuteTime": {
     "end_time": "2025-05-22T18:32:11.365867Z",
     "start_time": "2025-05-22T18:32:11.362855Z"
    }
   },
   "cell_type": "code",
   "source": [
    "# importing\n",
    "\n",
    "import torch\n",
    "import numpy as np\n",
    "from torch import nn\n",
    "import pandas as pd\n",
    "import sklearn\n",
    "import seaborn as sns\n",
    "from sklearn.model_selection import train_test_split\n",
    "from sklearn.preprocessing import StandardScaler\n",
    "import matplotlib.pyplot as plt"
   ],
   "id": "cc642dba288d0c49",
   "outputs": [],
   "execution_count": 94
  },
  {
   "metadata": {},
   "cell_type": "markdown",
   "source": "Now that everything's imported, I can start to import my data. For this project, the dataset is very large (nearly 400MB), and waaaay over GitHub's 30MB file size limit. To get around this, I've run the entire NN on my own device instead of Google Colab. If you want to run this on your own, you can find the dataset [here](https://www.kaggle.com/datasets/mczielinski/bitcoin-historical-data). It's also got over 7,000,000 rows, so I'll need to trim that down. In order to trim this down, I'll only choose rows that have over 200 volume. Why 200? When I looked at the original data, I saw that most of the entries remained below 200 volume, so I was able to eliminate a *lot* of unnecessary data. (brought it from 7M -> 5M rows with volume > 1, and from 5M -> 13,000 with volume > 200) This should significantly help my model to run faster.",
   "id": "a7566f2fecbe5a78"
  },
  {
   "metadata": {
    "ExecuteTime": {
     "end_time": "2025-05-22T18:32:13.080826Z",
     "start_time": "2025-05-22T18:32:11.390006Z"
    }
   },
   "cell_type": "code",
   "source": [
    "df = pd.read_csv(\"btcusd_1-min_data.csv\").dropna()\n",
    "#drops all the non-numerical columns\n",
    "\n",
    "# We won't be needing the timestamps in the NN, and it's not numerical.\n",
    "df.drop(columns=[\"Timestamp\"],inplace=True)\n",
    "\n",
    "df.query(\"Volume > 200\", inplace=True) # Brings our row count from 7,000,000+ to just over 13,000.\n",
    "df.reset_index(drop=True,inplace=True)\n",
    "\n",
    "df"
   ],
   "id": "75db6e74aaa1e517",
   "outputs": [
    {
     "data": {
      "text/plain": [
       "           Open      High       Low     Close      Volume\n",
       "0          5.37      5.37      5.37      5.37  213.465156\n",
       "1          5.33      5.33      5.33      5.33  247.560124\n",
       "2          5.32      5.32      5.32      5.32  233.772116\n",
       "3          4.90      4.90      4.90      4.90  233.890000\n",
       "4          5.12      5.12      5.12      5.12  233.520000\n",
       "...         ...       ...       ...       ...         ...\n",
       "13566  26882.00  27190.00  26870.00  27075.00  210.505204\n",
       "13567  33175.00  33175.00  32873.00  32887.00  200.290325\n",
       "13568  46070.00  46070.00  44903.00  45643.00  339.941471\n",
       "13569  62119.00  62530.00  61971.00  62393.00  233.090748\n",
       "13570  96410.00  96410.00  92092.00  92957.00  325.202458\n",
       "\n",
       "[13571 rows x 5 columns]"
      ],
      "text/html": [
       "<div>\n",
       "<style scoped>\n",
       "    .dataframe tbody tr th:only-of-type {\n",
       "        vertical-align: middle;\n",
       "    }\n",
       "\n",
       "    .dataframe tbody tr th {\n",
       "        vertical-align: top;\n",
       "    }\n",
       "\n",
       "    .dataframe thead th {\n",
       "        text-align: right;\n",
       "    }\n",
       "</style>\n",
       "<table border=\"1\" class=\"dataframe\">\n",
       "  <thead>\n",
       "    <tr style=\"text-align: right;\">\n",
       "      <th></th>\n",
       "      <th>Open</th>\n",
       "      <th>High</th>\n",
       "      <th>Low</th>\n",
       "      <th>Close</th>\n",
       "      <th>Volume</th>\n",
       "    </tr>\n",
       "  </thead>\n",
       "  <tbody>\n",
       "    <tr>\n",
       "      <th>0</th>\n",
       "      <td>5.37</td>\n",
       "      <td>5.37</td>\n",
       "      <td>5.37</td>\n",
       "      <td>5.37</td>\n",
       "      <td>213.465156</td>\n",
       "    </tr>\n",
       "    <tr>\n",
       "      <th>1</th>\n",
       "      <td>5.33</td>\n",
       "      <td>5.33</td>\n",
       "      <td>5.33</td>\n",
       "      <td>5.33</td>\n",
       "      <td>247.560124</td>\n",
       "    </tr>\n",
       "    <tr>\n",
       "      <th>2</th>\n",
       "      <td>5.32</td>\n",
       "      <td>5.32</td>\n",
       "      <td>5.32</td>\n",
       "      <td>5.32</td>\n",
       "      <td>233.772116</td>\n",
       "    </tr>\n",
       "    <tr>\n",
       "      <th>3</th>\n",
       "      <td>4.90</td>\n",
       "      <td>4.90</td>\n",
       "      <td>4.90</td>\n",
       "      <td>4.90</td>\n",
       "      <td>233.890000</td>\n",
       "    </tr>\n",
       "    <tr>\n",
       "      <th>4</th>\n",
       "      <td>5.12</td>\n",
       "      <td>5.12</td>\n",
       "      <td>5.12</td>\n",
       "      <td>5.12</td>\n",
       "      <td>233.520000</td>\n",
       "    </tr>\n",
       "    <tr>\n",
       "      <th>...</th>\n",
       "      <td>...</td>\n",
       "      <td>...</td>\n",
       "      <td>...</td>\n",
       "      <td>...</td>\n",
       "      <td>...</td>\n",
       "    </tr>\n",
       "    <tr>\n",
       "      <th>13566</th>\n",
       "      <td>26882.00</td>\n",
       "      <td>27190.00</td>\n",
       "      <td>26870.00</td>\n",
       "      <td>27075.00</td>\n",
       "      <td>210.505204</td>\n",
       "    </tr>\n",
       "    <tr>\n",
       "      <th>13567</th>\n",
       "      <td>33175.00</td>\n",
       "      <td>33175.00</td>\n",
       "      <td>32873.00</td>\n",
       "      <td>32887.00</td>\n",
       "      <td>200.290325</td>\n",
       "    </tr>\n",
       "    <tr>\n",
       "      <th>13568</th>\n",
       "      <td>46070.00</td>\n",
       "      <td>46070.00</td>\n",
       "      <td>44903.00</td>\n",
       "      <td>45643.00</td>\n",
       "      <td>339.941471</td>\n",
       "    </tr>\n",
       "    <tr>\n",
       "      <th>13569</th>\n",
       "      <td>62119.00</td>\n",
       "      <td>62530.00</td>\n",
       "      <td>61971.00</td>\n",
       "      <td>62393.00</td>\n",
       "      <td>233.090748</td>\n",
       "    </tr>\n",
       "    <tr>\n",
       "      <th>13570</th>\n",
       "      <td>96410.00</td>\n",
       "      <td>96410.00</td>\n",
       "      <td>92092.00</td>\n",
       "      <td>92957.00</td>\n",
       "      <td>325.202458</td>\n",
       "    </tr>\n",
       "  </tbody>\n",
       "</table>\n",
       "<p>13571 rows × 5 columns</p>\n",
       "</div>"
      ]
     },
     "execution_count": 95,
     "metadata": {},
     "output_type": "execute_result"
    }
   ],
   "execution_count": 95
  },
  {
   "metadata": {},
   "cell_type": "markdown",
   "source": "My first time through, I made this model:",
   "id": "7a1537029bd0f445"
  },
  {
   "metadata": {
    "ExecuteTime": {
     "end_time": "2025-05-22T18:32:13.142454Z",
     "start_time": "2025-05-22T18:32:13.122713Z"
    }
   },
   "cell_type": "code",
   "source": [
    "shoot = df[[\"Open\",\"High\",\"Low\",\"Close\",\"Volume\"]]\n",
    "\n",
    "#convert to numpy array\n",
    "s_matrix = shoot.to_numpy()\n",
    "#convert to a PyTorch tensor\n",
    "s_tensor = torch.from_numpy(s_matrix)\n",
    "\n",
    "#this function defaults to a random  offset vector and weight matrix\n",
    "linear = torch.nn.Linear(in_features=2, # in_features: must match column number of input\n",
    "                         out_features=1,# out_features: column number of output\n",
    "                         dtype=torch.float64) #specifies the data type\n",
    "\n",
    "X = s_tensor[:,[1,2]] #use 3PA and FT% to predict\n",
    "y_pred = linear(X) #the actual matrix multiplication\n",
    "print(f\"Input shape: {X.shape}\\n\")\n",
    "print(f\"Output:\\n{y_pred}\\n\\nOutput shape: {y_pred.shape}\")\n",
    "\n",
    "X = s_tensor[:,2].unsqueeze(dim=1) #use FT% as a predictor\n",
    "y = s_tensor[:,0].unsqueeze(dim=1) #FG% is the estimand, the thing we're predicting.\n",
    "\n",
    "# 80% of data is training, 20% is testing\n",
    "X_train, X_test, y_train, y_test = train_test_split(X, y, test_size=0.2)\n",
    "\n",
    "#this function defaults to a random  offset vector and weight matrix\n",
    "linear = torch.nn.Linear(\n",
    "    in_features=1, # in_features: must match number of columns of input, which is now one\n",
    "    out_features=1,# out_features: number of columns in output\n",
    "    dtype=torch.float64) #specifies the data type\n",
    "\n",
    "# Create a loss function\n",
    "loss_fn = nn.MSELoss() # mean squared error; this is similar to multiplying our matrix by itself\n",
    "\n",
    "# Create an optimizer; SGD is stochastic gradient decent\n",
    "optimizer = torch.optim.SGD(params=linear.parameters(),\n",
    "                            lr=0.1) #this is how fast it optimizes; smaller is slower, but more consistent\n",
    "\n",
    "# Set the number of epochs; this is how many times we update our model\n",
    "epochs = 10\n",
    "\n",
    "for epoch in range(epochs):\n",
    "    ### Training\n",
    "    #this allows our matrices to update\n",
    "    linear.train()\n",
    "    # 1. Forward pass; makes predictions\n",
    "    y_pred = linear(X_train)\n",
    "    # 2. Calculate loss; how bad were our predictions?\n",
    "    loss = loss_fn(y_pred, y_train)\n",
    "    # 3. Optimizer zero grad; resets how we change our model\n",
    "    optimizer.zero_grad()\n",
    "    # 4. Loss backwards; determines how to change our weights matrix\n",
    "    loss.backward()\n",
    "    # 5. Optimizer step; changes our weights matrix based on .backward()\n",
    "    optimizer.step()\n",
    "    ### Testing\n",
    "    linear.eval() #forces our matrices to stay the same\n",
    "    with torch.inference_mode():\n",
    "      # 1. Forward pass; makes predictions, but with test data\n",
    "      test_pred = linear(X_test)\n",
    "      # 2. Calculate the loss, but with test data\n",
    "      test_loss = loss_fn(test_pred, y_test)\n",
    "    # Print out what's happening\n",
    "    if epoch % 1 == 0: #prints every 100 epochs\n",
    "        print(f\"Epoch: {epoch} | Train loss: {loss:.5f}, Test loss: {test_loss:.5f}\")"
   ],
   "id": "e9d89ea0ff49950b",
   "outputs": [
    {
     "name": "stdout",
     "output_type": "stream",
     "text": [
      "Input shape: torch.Size([13571, 2])\n",
      "\n",
      "Output:\n",
      "tensor([[2.7933e+00],\n",
      "        [2.7675e+00],\n",
      "        [2.7610e+00],\n",
      "        ...,\n",
      "        [2.9665e+04],\n",
      "        [4.0292e+04],\n",
      "        [6.2029e+04]], dtype=torch.float64, grad_fn=<AddmmBackward0>)\n",
      "\n",
      "Output shape: torch.Size([13571, 1])\n",
      "Epoch: 0 | Train loss: 55386828.51582, Test loss: 817501361313578745856.00000\n",
      "Epoch: 1 | Train loss: 668130026742748807168.00000, Test loss: 9862384608431036967817359602483200.00000\n",
      "Epoch: 2 | Train loss: 8060360014876026943691928612372480.00000, Test loss: 118980389096827792977166417950862398601115467776.00000\n",
      "Epoch: 3 | Train loss: 97240658208626681239687741803690121206228320256.00000, Test loss: 1435386425462542279385225043254206663385636574030832376741888.00000\n",
      "Epoch: 4 | Train loss: 1173117030926122753649028844273178063140717156000652121341952.00000, Test loss: 17316586422703717248329872569560672971294784764467707805919046360801214464.00000\n",
      "Epoch: 5 | Train loss: 14152552991736452380036353934215756057227503958430691380329989249022558208.00000, Test loss: 208908319053063527629936556063855356689712809167304023617957794574858326686383443279872.00000\n",
      "Epoch: 6 | Train loss: 170737233288467184089199067495910394435743917143975645174976044763216691163757656670208.00000, Test loss: 2520282271819851030891569988739197301707693092421767222867527348593222846823916459263918101810380800.00000\n",
      "Epoch: 7 | Train loss: 2059784043770868340331654788017924429920581160705411330873420877305372053755664194792948084336754688.00000, Test loss: 30404833845013572861561812275526317638618428961178175281164961848898591443846867739933671862782302644611854630912.00000\n",
      "Epoch: 8 | Train loss: 24849356085118706026422774911764874465748788515515308315142832868088517634385991785777772971259911409585035935744.00000, Test loss: 366805707233480123527640114875411777879958716901698195453414488348579926219063199036959766334632402666463381795377018107330560.00000\n",
      "Epoch: 9 | Train loss: 299784096159216472036692017389887366365467511424142684950042007739450037010112872011758583368255561909348479174580990266834944.00000, Test loss: 4425165667567647113123574640955239251294753712861979182919317151186381560483602353224017115315981567405445244786241161926552923007071813632.00000\n"
     ]
    }
   ],
   "execution_count": 96
  },
  {
   "metadata": {},
   "cell_type": "markdown",
   "source": "As we can see, it looks horrible! Then, I found out I forgot to normalize my data. (thanks Grant!) So, I added some new code to normalize it. Now, I'll continue going through each step of making the NN.",
   "id": "4c42d5a6548d2cce"
  },
  {
   "metadata": {
    "ExecuteTime": {
     "end_time": "2025-05-22T18:32:13.182992Z",
     "start_time": "2025-05-22T18:32:13.176361Z"
    }
   },
   "cell_type": "code",
   "source": [
    "# Alternative way to normalize the data, stolen from GeeksForGeeks (source at the bottom)\n",
    "\n",
    "z_scaled = df.copy()\n",
    "\n",
    "for column in z_scaled.columns:\n",
    "    z_scaled[column] = (z_scaled[column] - z_scaled[column].mean()) / z_scaled[column].std()\n",
    "\n",
    "shoot = z_scaled[[\"Open\",\"High\",\"Low\",\"Close\",\"Volume\"]]"
   ],
   "id": "777b5a0340cdddb2",
   "outputs": [],
   "execution_count": 97
  },
  {
   "metadata": {},
   "cell_type": "markdown",
   "source": "This code is just setting all the data up to make the NN, and is identical to what we used in the NN where I forgot to normalize the data.",
   "id": "c6568374a250711e"
  },
  {
   "metadata": {
    "ExecuteTime": {
     "end_time": "2025-05-22T18:32:13.252504Z",
     "start_time": "2025-05-22T18:32:13.249789Z"
    }
   },
   "cell_type": "code",
   "source": [
    "#convert to numpy array\n",
    "s_matrix = shoot.to_numpy()\n",
    "#convert to a PyTorch tensor\n",
    "s_tensor = torch.from_numpy(s_matrix)"
   ],
   "id": "1c5f5b7711ac0462",
   "outputs": [],
   "execution_count": 98
  },
  {
   "metadata": {
    "ExecuteTime": {
     "end_time": "2025-05-22T18:32:13.276308Z",
     "start_time": "2025-05-22T18:32:13.271501Z"
    }
   },
   "cell_type": "code",
   "source": "s_tensor #the default data type is a float",
   "id": "e9a5971e50275e1d",
   "outputs": [
    {
     "data": {
      "text/plain": [
       "tensor([[-4.2245e-01, -4.2206e-01, -4.2482e-01, -4.2344e-01, -5.9415e-01],\n",
       "        [-4.2246e-01, -4.2207e-01, -4.2483e-01, -4.2345e-01, -4.3966e-01],\n",
       "        [-4.2246e-01, -4.2208e-01, -4.2483e-01, -4.2345e-01, -5.0213e-01],\n",
       "        ...,\n",
       "        [ 1.1179e+01,  1.1117e+01,  1.1033e+01,  1.1119e+01, -2.1062e-02],\n",
       "        [ 1.5221e+01,  1.5241e+01,  1.5388e+01,  1.5356e+01, -5.0522e-01],\n",
       "        [ 2.3857e+01,  2.3728e+01,  2.3075e+01,  2.3086e+01, -8.7847e-02]],\n",
       "       dtype=torch.float64)"
      ]
     },
     "execution_count": 99,
     "metadata": {},
     "output_type": "execute_result"
    }
   ],
   "execution_count": 99
  },
  {
   "metadata": {
    "ExecuteTime": {
     "end_time": "2025-05-22T18:32:13.320830Z",
     "start_time": "2025-05-22T18:32:13.316444Z"
    }
   },
   "cell_type": "code",
   "source": [
    "#copied from pytorch fundamentals' online textbook\n",
    "\n",
    "#this function defaults to a random  offset vector and weight matrix\n",
    "linear = torch.nn.Linear(in_features=4, # in_features: must match column number of input\n",
    "                         out_features=3,# out_features: column number of output\n",
    "                         dtype=torch.float64) #specifies the data type\n",
    "\n",
    "X = s_tensor[:,[0,1,2,4]] #use everything but close to predict\n",
    "y_pred = linear(X) #the actual matrix multiplication\n",
    "print(f\"Input shape: {X.shape}\\n\")\n",
    "print(f\"Output:\\n{y_pred}\\n\\nOutput shape: {y_pred.shape}\")"
   ],
   "id": "9a2fd65dd60cc655",
   "outputs": [
    {
     "name": "stdout",
     "output_type": "stream",
     "text": [
      "Input shape: torch.Size([13571, 4])\n",
      "\n",
      "Output:\n",
      "tensor([[  0.3059,   0.3355,  -0.2668],\n",
      "        [  0.2597,   0.3175,  -0.3033],\n",
      "        [  0.2784,   0.3248,  -0.2885],\n",
      "        ...,\n",
      "        [  8.5967,  -6.2732,   7.6564],\n",
      "        [ 11.6901,  -8.6270,  10.7057],\n",
      "        [ 17.9166, -13.1920,  16.2854]], dtype=torch.float64,\n",
      "       grad_fn=<AddmmBackward0>)\n",
      "\n",
      "Output shape: torch.Size([13571, 3])\n"
     ]
    }
   ],
   "execution_count": 100
  },
  {
   "metadata": {},
   "cell_type": "markdown",
   "source": "All I've changed is the predictors and estimands here, otherwise it's identical to the notes.",
   "id": "5ad5ad9e43631ae1"
  },
  {
   "metadata": {
    "ExecuteTime": {
     "end_time": "2025-05-22T18:32:13.362700Z",
     "start_time": "2025-05-22T18:32:13.359709Z"
    }
   },
   "cell_type": "code",
   "source": [
    "X = s_tensor[:,4].unsqueeze(dim=1) #use FT% as a predictor\n",
    "y = s_tensor[:,3].unsqueeze(dim=1) #FG% is the estimand, the thing we're predicting.\n",
    "\n",
    "# 80% of data is training, 20% is testing\n",
    "X_train, X_test, y_train, y_test = train_test_split(X, y, test_size=0.2)"
   ],
   "id": "a24c102cb642fc83",
   "outputs": [],
   "execution_count": 101
  },
  {
   "metadata": {
    "ExecuteTime": {
     "end_time": "2025-05-22T18:32:13.391194Z",
     "start_time": "2025-05-22T18:32:13.388553Z"
    }
   },
   "cell_type": "code",
   "source": [
    "#this function defaults to a random  offset vector and weight matrix\n",
    "linear = torch.nn.Linear(\n",
    "    in_features=1, # in_features: must match number of columns of input, which is now one\n",
    "    out_features=1,# out_features: number of columns in output\n",
    "    dtype=torch.float64) #specifies the data type"
   ],
   "id": "7b719ba8d47d8488",
   "outputs": [],
   "execution_count": 102
  },
  {
   "metadata": {
    "ExecuteTime": {
     "end_time": "2025-05-22T18:32:13.409810Z",
     "start_time": "2025-05-22T18:32:13.407419Z"
    }
   },
   "cell_type": "code",
   "source": [
    "# Create a loss function\n",
    "loss_fn = nn.MSELoss() # mean squared error; this is similar to multiplying our matrix by itself\n",
    "\n",
    "# Create an optimizer; SGD is stochastic gradient decent\n",
    "optimizer = torch.optim.SGD(params=linear.parameters(),\n",
    "                            lr=0.1) #this is how fast it optimizes; smaller is slower, but more consistent"
   ],
   "id": "31346d4418871dcb",
   "outputs": [],
   "execution_count": 103
  },
  {
   "metadata": {},
   "cell_type": "markdown",
   "source": "Now that everything for our neural network has been prepared, we're all good to start modeling this. I'll be using 10 epochs, since that's what the notes recommended.",
   "id": "9bdbe44693199324"
  },
  {
   "metadata": {
    "ExecuteTime": {
     "end_time": "2025-05-22T18:32:13.435441Z",
     "start_time": "2025-05-22T18:32:13.428257Z"
    }
   },
   "cell_type": "code",
   "source": [
    "# Set the number of epochs; this is how many times we update our model\n",
    "epochs = 10\n",
    "\n",
    "for epoch in range(epochs):\n",
    "    ### Training\n",
    "\n",
    "    #this allows our matrices to update\n",
    "    linear.train()\n",
    "\n",
    "    # 1. Forward pass; makes predictions\n",
    "    y_pred = linear(X_train)\n",
    "\n",
    "    # 2. Calculate loss; how bad were our predictions?\n",
    "    loss = loss_fn(y_pred, y_train)\n",
    "\n",
    "    # 3. Optimizer zero grad; resets how we change our model\n",
    "    optimizer.zero_grad()\n",
    "\n",
    "    # 4. Loss backwards; determines how to change our weights matrix\n",
    "    loss.backward()\n",
    "\n",
    "    # 5. Optimizer step; changes our weights matrix based on .backward()\n",
    "    optimizer.step()\n",
    "\n",
    "    ### Testing\n",
    "    linear.eval() #forces our matrices to stay the same\n",
    "    with torch.inference_mode():\n",
    "      # 1. Forward pass; makes predictions, but with test data\n",
    "      test_pred = linear(X_test)\n",
    "      # 2. Calculate the loss, but with test data\n",
    "      test_loss = loss_fn(test_pred, y_test)\n",
    "\n",
    "    # Print out what's happening\n",
    "    if epoch % 1 == 0: #prints every 100 epochs\n",
    "        print(f\"Epoch: {epoch} | Train loss: {loss:.5f}, Test loss: {test_loss:.5f}\")\n"
   ],
   "id": "5762efea484913f",
   "outputs": [
    {
     "name": "stdout",
     "output_type": "stream",
     "text": [
      "Epoch: 0 | Train loss: 1.80235, Test loss: 1.51986\n",
      "Epoch: 1 | Train loss: 1.50583, Test loss: 1.33622\n",
      "Epoch: 2 | Train loss: 1.31617, Test loss: 1.21953\n",
      "Epoch: 3 | Train loss: 1.19486, Test loss: 1.14553\n",
      "Epoch: 4 | Train loss: 1.11727, Test loss: 1.09870\n",
      "Epoch: 5 | Train loss: 1.06764, Test loss: 1.06914\n",
      "Epoch: 6 | Train loss: 1.03590, Test loss: 1.05056\n",
      "Epoch: 7 | Train loss: 1.01560, Test loss: 1.03894\n",
      "Epoch: 8 | Train loss: 1.00261, Test loss: 1.03171\n",
      "Epoch: 9 | Train loss: 0.99431, Test loss: 1.02725\n"
     ]
    }
   ],
   "execution_count": 104
  },
  {
   "metadata": {},
   "cell_type": "markdown",
   "source": "This looks promising! Let's check the final graph and results from this NN.",
   "id": "e27b53759563d7e5"
  },
  {
   "metadata": {
    "ExecuteTime": {
     "end_time": "2025-05-22T18:32:13.484320Z",
     "start_time": "2025-05-22T18:32:13.477202Z"
    }
   },
   "cell_type": "code",
   "source": "shoot",
   "id": "423d3d1192de0c3",
   "outputs": [
    {
     "data": {
      "text/plain": [
       "            Open       High        Low      Close    Volume\n",
       "0      -0.422449  -0.422065  -0.424822  -0.423439 -0.594147\n",
       "1      -0.422460  -0.422075  -0.424832  -0.423449 -0.439657\n",
       "2      -0.422462  -0.422077  -0.424835  -0.423452 -0.502133\n",
       "3      -0.422568  -0.422183  -0.424942  -0.423558 -0.501599\n",
       "4      -0.422512  -0.422127  -0.424886  -0.423502 -0.503275\n",
       "...          ...        ...        ...        ...       ...\n",
       "13566   6.346376   6.387903   6.430852   6.423038 -0.607559\n",
       "13567   7.931255   7.887193   7.962778   7.893015 -0.653845\n",
       "13568  11.178835  11.117494  11.032754  11.119275 -0.021062\n",
       "13569  15.220743  15.240856  15.388393  15.355701 -0.505220\n",
       "13570  23.856863  23.728067  23.075072  23.085978 -0.087847\n",
       "\n",
       "[13571 rows x 5 columns]"
      ],
      "text/html": [
       "<div>\n",
       "<style scoped>\n",
       "    .dataframe tbody tr th:only-of-type {\n",
       "        vertical-align: middle;\n",
       "    }\n",
       "\n",
       "    .dataframe tbody tr th {\n",
       "        vertical-align: top;\n",
       "    }\n",
       "\n",
       "    .dataframe thead th {\n",
       "        text-align: right;\n",
       "    }\n",
       "</style>\n",
       "<table border=\"1\" class=\"dataframe\">\n",
       "  <thead>\n",
       "    <tr style=\"text-align: right;\">\n",
       "      <th></th>\n",
       "      <th>Open</th>\n",
       "      <th>High</th>\n",
       "      <th>Low</th>\n",
       "      <th>Close</th>\n",
       "      <th>Volume</th>\n",
       "    </tr>\n",
       "  </thead>\n",
       "  <tbody>\n",
       "    <tr>\n",
       "      <th>0</th>\n",
       "      <td>-0.422449</td>\n",
       "      <td>-0.422065</td>\n",
       "      <td>-0.424822</td>\n",
       "      <td>-0.423439</td>\n",
       "      <td>-0.594147</td>\n",
       "    </tr>\n",
       "    <tr>\n",
       "      <th>1</th>\n",
       "      <td>-0.422460</td>\n",
       "      <td>-0.422075</td>\n",
       "      <td>-0.424832</td>\n",
       "      <td>-0.423449</td>\n",
       "      <td>-0.439657</td>\n",
       "    </tr>\n",
       "    <tr>\n",
       "      <th>2</th>\n",
       "      <td>-0.422462</td>\n",
       "      <td>-0.422077</td>\n",
       "      <td>-0.424835</td>\n",
       "      <td>-0.423452</td>\n",
       "      <td>-0.502133</td>\n",
       "    </tr>\n",
       "    <tr>\n",
       "      <th>3</th>\n",
       "      <td>-0.422568</td>\n",
       "      <td>-0.422183</td>\n",
       "      <td>-0.424942</td>\n",
       "      <td>-0.423558</td>\n",
       "      <td>-0.501599</td>\n",
       "    </tr>\n",
       "    <tr>\n",
       "      <th>4</th>\n",
       "      <td>-0.422512</td>\n",
       "      <td>-0.422127</td>\n",
       "      <td>-0.424886</td>\n",
       "      <td>-0.423502</td>\n",
       "      <td>-0.503275</td>\n",
       "    </tr>\n",
       "    <tr>\n",
       "      <th>...</th>\n",
       "      <td>...</td>\n",
       "      <td>...</td>\n",
       "      <td>...</td>\n",
       "      <td>...</td>\n",
       "      <td>...</td>\n",
       "    </tr>\n",
       "    <tr>\n",
       "      <th>13566</th>\n",
       "      <td>6.346376</td>\n",
       "      <td>6.387903</td>\n",
       "      <td>6.430852</td>\n",
       "      <td>6.423038</td>\n",
       "      <td>-0.607559</td>\n",
       "    </tr>\n",
       "    <tr>\n",
       "      <th>13567</th>\n",
       "      <td>7.931255</td>\n",
       "      <td>7.887193</td>\n",
       "      <td>7.962778</td>\n",
       "      <td>7.893015</td>\n",
       "      <td>-0.653845</td>\n",
       "    </tr>\n",
       "    <tr>\n",
       "      <th>13568</th>\n",
       "      <td>11.178835</td>\n",
       "      <td>11.117494</td>\n",
       "      <td>11.032754</td>\n",
       "      <td>11.119275</td>\n",
       "      <td>-0.021062</td>\n",
       "    </tr>\n",
       "    <tr>\n",
       "      <th>13569</th>\n",
       "      <td>15.220743</td>\n",
       "      <td>15.240856</td>\n",
       "      <td>15.388393</td>\n",
       "      <td>15.355701</td>\n",
       "      <td>-0.505220</td>\n",
       "    </tr>\n",
       "    <tr>\n",
       "      <th>13570</th>\n",
       "      <td>23.856863</td>\n",
       "      <td>23.728067</td>\n",
       "      <td>23.075072</td>\n",
       "      <td>23.085978</td>\n",
       "      <td>-0.087847</td>\n",
       "    </tr>\n",
       "  </tbody>\n",
       "</table>\n",
       "<p>13571 rows × 5 columns</p>\n",
       "</div>"
      ]
     },
     "execution_count": 105,
     "metadata": {},
     "output_type": "execute_result"
    }
   ],
   "execution_count": 105
  },
  {
   "metadata": {
    "ExecuteTime": {
     "end_time": "2025-05-22T18:32:13.528542Z",
     "start_time": "2025-05-22T18:32:13.524250Z"
    }
   },
   "cell_type": "code",
   "source": [
    "def plot_predictions(train_data=X_train,\n",
    "                     train_labels=y_train,\n",
    "                     test_data=X_test,\n",
    "                     test_labels=y_test,\n",
    "                     predictions=None):\n",
    "  \"\"\"\n",
    "  Plots training data, test data and compares predictions.\n",
    "  \"\"\"\n",
    "\n",
    "  # Plot training data in blue\n",
    "  plt.scatter(train_data, train_labels, c=\"b\", s=4, label=\"Training data\")\n",
    "\n",
    "  # Plot test data in green\n",
    "  plt.scatter(test_data, test_labels, c=\"g\", s=4, label=\"Testing data\")\n",
    "\n",
    "  if predictions is not None:\n",
    "    # Plot the predictions in red (predictions were made on the test data)\n",
    "    plt.scatter(test_data, predictions, c=\"r\", s=4, label=\"Predictions\")\n",
    "\n",
    "  # Show the legend\n",
    "  plt.legend(prop={\"size\": 14});"
   ],
   "id": "a7655eba3f53ce45",
   "outputs": [],
   "execution_count": 106
  },
  {
   "metadata": {
    "ExecuteTime": {
     "end_time": "2025-05-22T18:32:13.672630Z",
     "start_time": "2025-05-22T18:32:13.563167Z"
    }
   },
   "cell_type": "code",
   "source": [
    "# Turn on evaluation mode\n",
    "linear.eval()\n",
    "\n",
    "# Make predictions (inference)\n",
    "with torch.inference_mode():\n",
    "    y_preds = linear(X_test)\n",
    "\n",
    "# Plot data and predictions\n",
    "plot_predictions(predictions=y_preds);"
   ],
   "id": "384e2241b0a72953",
   "outputs": [
    {
     "data": {
      "text/plain": [
       "<Figure size 640x480 with 1 Axes>"
      ],
      "image/png": "[encoded data removed]"
     },
     "metadata": {},
     "output_type": "display_data"
    }
   ],
   "execution_count": 107
  },
  {
   "metadata": {},
   "cell_type": "markdown",
   "source": "Interesting.. I'll try making a multi-layered NN using the code from the Unit9Notes. There's not too much to say here, so I'll just show all the code to get to the model and analyze both models in the conclusion section.",
   "id": "478ce1bc8ae42252"
  },
  {
   "metadata": {
    "ExecuteTime": {
     "end_time": "2025-05-22T18:32:15.251580Z",
     "start_time": "2025-05-22T18:32:13.735476Z"
    }
   },
   "cell_type": "code",
   "source": [
    "df2 = pd.read_csv(\"btcusd_1-min_data.csv\")\n",
    "\n",
    "#just gonna trim off some unnecessary data here\n",
    "\n",
    "# We won't be needing the timestamps in the NN, and it's not numerical.\n",
    "df2.drop(columns=[\"Timestamp\"],inplace=True)\n",
    "\n",
    "df2.query(\"Volume > 200\", inplace=True) # Brings our row count from 7,000,000+ to just over 13,000.\n",
    "df2.reset_index(drop=True,inplace=True)\n",
    "\n",
    "#convert to a PyTorch tensor\n",
    "h = df2.Volume.to_numpy() #just gonna use volume to predict\n",
    "height = torch.from_numpy(h)\n",
    "w = df2.Close.to_numpy()\n",
    "weight = torch.from_numpy(w)"
   ],
   "id": "adb0a7dff11d86f0",
   "outputs": [],
   "execution_count": 108
  },
  {
   "metadata": {
    "ExecuteTime": {
     "end_time": "2025-05-22T18:32:15.270347Z",
     "start_time": "2025-05-22T18:32:15.267931Z"
    }
   },
   "cell_type": "code",
   "source": [
    "X = height.unsqueeze(dim=1) #use height as a predictor\n",
    "y = weight.unsqueeze(dim=1) #weight is the estimand, the thing we're predicting."
   ],
   "id": "fbc0305db3ca0f3d",
   "outputs": [],
   "execution_count": 109
  },
  {
   "metadata": {
    "ExecuteTime": {
     "end_time": "2025-05-22T18:32:15.295Z",
     "start_time": "2025-05-22T18:32:15.287611Z"
    }
   },
   "cell_type": "code",
   "source": [
    "# Scale the height using standardization\n",
    "scaler = StandardScaler()\n",
    "height_scaled = scaler.fit_transform(\n",
    "    height.reshape(-1, 1) #makes it a column vector\n",
    "    )\n",
    "\n",
    "# Split data into training and testing sets\n",
    "X_train, X_test, y_train, y_test = train_test_split(\n",
    "    height_scaled, weight, test_size=0.2,\n",
    ")\n",
    "\n",
    "# Convert to PyTorch tensors\n",
    "X_train = torch.tensor(X_train, dtype=torch.float32)\n",
    "y_train = torch.tensor(y_train, dtype=torch.float32)\n",
    "X_test = torch.tensor(X_test, dtype=torch.float32)\n",
    "y_test = torch.tensor(y_test, dtype=torch.float32)"
   ],
   "id": "a1290c966e0772ba",
   "outputs": [
    {
     "name": "stderr",
     "output_type": "stream",
     "text": [
      "/var/folders/_z/2t3c57x51dx053zg79bk54vr0000gn/T/ipykernel_49768/4067959083.py:14: UserWarning: To copy construct from a tensor, it is recommended to use sourceTensor.detach().clone() or sourceTensor.detach().clone().requires_grad_(True), rather than torch.tensor(sourceTensor).\n",
      "  y_train = torch.tensor(y_train, dtype=torch.float32)\n",
      "/var/folders/_z/2t3c57x51dx053zg79bk54vr0000gn/T/ipykernel_49768/4067959083.py:16: UserWarning: To copy construct from a tensor, it is recommended to use sourceTensor.detach().clone() or sourceTensor.detach().clone().requires_grad_(True), rather than torch.tensor(sourceTensor).\n",
      "  y_test = torch.tensor(y_test, dtype=torch.float32)\n"
     ]
    }
   ],
   "execution_count": 110
  },
  {
   "metadata": {
    "ExecuteTime": {
     "end_time": "2025-05-22T18:32:15.320180Z",
     "start_time": "2025-05-22T18:32:15.317488Z"
    }
   },
   "cell_type": "code",
   "source": [
    "# Two layer nn with nn.Sequential\n",
    "model_00 = nn.Sequential(\n",
    "    #out_features is 7, for 7 nodes/neurons/knots\n",
    "    nn.Linear(in_features=1, out_features=7),\n",
    "    #in_features is 7, for 7 nodes/neurons/knots\n",
    "    nn.Linear(in_features=7, out_features=1),\n",
    ")"
   ],
   "id": "30a2b2330fd4a22a",
   "outputs": [],
   "execution_count": 111
  },
  {
   "metadata": {
    "ExecuteTime": {
     "end_time": "2025-05-22T18:32:15.339153Z",
     "start_time": "2025-05-22T18:32:15.336324Z"
    }
   },
   "cell_type": "code",
   "source": [
    "# Create a loss function\n",
    "# different loss functions work better for different data sets\n",
    "loss_fn = nn.MSELoss()\n",
    "\n",
    "# Create an optimizer; SGD is stochastic gradient decent\n",
    "#Adam is another similar, popular optimizer\n",
    "optimizer = torch.optim.SGD(params=model_00.parameters(),\n",
    "                            lr=0.0001) #this is how fast it optimizes; smaller is slower, but more consistent"
   ],
   "id": "503347f3308a6001",
   "outputs": [],
   "execution_count": 112
  },
  {
   "metadata": {},
   "cell_type": "markdown",
   "source": "Model time!",
   "id": "310db579cea6b2e3"
  },
  {
   "metadata": {
    "ExecuteTime": {
     "end_time": "2025-05-22T18:32:20.694071Z",
     "start_time": "2025-05-22T18:32:15.357654Z"
    }
   },
   "cell_type": "code",
   "source": [
    "# Set the number of epochs; this is how many times we update our model\n",
    "epochs = 2000\n",
    "\n",
    "for epoch in range(epochs):\n",
    "    ### Training\n",
    "\n",
    "    #this allows our matrices to update\n",
    "    model_00.train()\n",
    "\n",
    "    # 1. Forward pass; makes predictions\n",
    "    y_pred = model_00(X_train)\n",
    "\n",
    "    # 2. Calculate loss; how bad were our predictions?\n",
    "    loss = loss_fn(y_pred.squeeze(), y_train)\n",
    "\n",
    "    # 3. Optimizer zero grad; resets how we change our model\n",
    "    optimizer.zero_grad()\n",
    "\n",
    "    # 4. Loss backwards; determines how to change our weights matrix\n",
    "    loss.backward()\n",
    "\n",
    "    # 5. Optimizer step; changes our weights matrix based on .backward()\n",
    "    optimizer.step()\n",
    "\n",
    "    ### Testing\n",
    "    model_00.eval() #forces our matrices to stay the same\n",
    "    with torch.inference_mode():\n",
    "      # 1. Forward pass; makes predictions, but with test data\n",
    "      test_pred = model_00(X_test)\n",
    "      # 2. Calculate the loss, but with test data\n",
    "      test_loss = loss_fn(test_pred, y_test)\n",
    "\n",
    "    # Print out what's happening\n",
    "    if epoch % 200 == 0: #prints every 200 epochs\n",
    "        print(f\"Epoch: {epoch} | Train loss: {loss:.5f}, Test loss: {test_loss:.5f}\")"
   ],
   "id": "426807b97ae228ca",
   "outputs": [
    {
     "name": "stderr",
     "output_type": "stream",
     "text": [
      "/Library/Frameworks/Python.framework/Versions/3.12/lib/python3.12/site-packages/torch/nn/modules/loss.py:610: UserWarning: Using a target size (torch.Size([2715])) that is different to the input size (torch.Size([2715, 1])). This will likely lead to incorrect results due to broadcasting. Please ensure they have the same size.\n",
      "  return F.mse_loss(input, target, reduction=self.reduction)\n"
     ]
    },
    {
     "name": "stdout",
     "output_type": "stream",
     "text": [
      "Epoch: 0 | Train loss: 18579588.00000, Test loss: 17940910.00000\n",
      "Epoch: 200 | Train loss: 15578185.00000, Test loss: 15279790.00000\n",
      "Epoch: 400 | Train loss: 15578185.00000, Test loss: 15279790.00000\n",
      "Epoch: 600 | Train loss: 15578185.00000, Test loss: 15279790.00000\n",
      "Epoch: 800 | Train loss: 15578185.00000, Test loss: 15279790.00000\n",
      "Epoch: 1000 | Train loss: 15578185.00000, Test loss: 15279790.00000\n",
      "Epoch: 1200 | Train loss: 15578185.00000, Test loss: 15279790.00000\n",
      "Epoch: 1400 | Train loss: 15578185.00000, Test loss: 15279790.00000\n",
      "Epoch: 1600 | Train loss: 15578185.00000, Test loss: 15279790.00000\n",
      "Epoch: 1800 | Train loss: 15578185.00000, Test loss: 15279790.00000\n"
     ]
    }
   ],
   "execution_count": 113
  },
  {
   "metadata": {},
   "cell_type": "markdown",
   "source": "Oop.. That doesn't look good. Maybe I'll stick to the single-layered neural network.",
   "id": "621907dd1ea3763a"
  },
  {
   "metadata": {},
   "cell_type": "markdown",
   "source": [
    "## Conclusion\n",
    "\n",
    "The single-layered neural network performed better than the multi-layered one. My best guess as to why is that the  multi-layered model was only able to use one predictor, while I was able to use 4 on the single-layered model. I didn't have enough time to tweak the mult-layered model to improve it, so this is the best NN I'll have for this project. If I were to redo this, I'd spend more time on the multi-layered model to further improve it. The single-layered NN didn't end up as bad as I'd expected though, so I'm overall happy with this project."
   ],
   "id": "a58763b92080865b"
  },
  {
   "metadata": {},
   "cell_type": "markdown",
   "source": [
    "## Sources\n",
    "\n",
    "Stole some normalization code from [here](https://www.geeksforgeeks.org/data-normalization-with-pandas/)."
   ],
   "id": "c0bd6c5f7df68025"
  }
 ],
 "metadata": {
  "kernelspec": {
   "display_name": "Python 3",
   "language": "python",
   "name": "python3"
  },
  "language_info": {
   "codemirror_mode": {
    "name": "ipython",
    "version": 2
   },
   "file_extension": ".py",
   "mimetype": "text/x-python",
   "name": "python",
   "nbconvert_exporter": "python",
   "pygments_lexer": "ipython2",
   "version": "2.7.6"
  }
 },
 "nbformat": 4,
 "nbformat_minor": 5
}
